{
 "cells": [
  {
   "cell_type": "markdown",
   "id": "be9a07b8-53a4-4e74-bdc5-6a55a217d38d",
   "metadata": {},
   "source": [
    "Title: \n"
   ]
  },
  {
   "cell_type": "markdown",
   "id": "95205d5c-5ff3-4a28-8d74-ef0247d69110",
   "metadata": {},
   "source": [
    "Introduction:\n",
    "Provide some relevant background information on the topic so that someone unfamiliar with it will be prepared to understand the rest of your proposal\n",
    "Clearly state the question you will try to answer with your project"
   ]
  },
  {
   "cell_type": "markdown",
   "id": "e08f30f3-226d-4a3b-bc03-b358396f94e7",
   "metadata": {},
   "source": [
    "Preliminary exploratory data analysis:\n",
    "\n",
    "Demonstrate that the dataset can be read from the web into R \n",
    "Clean and wrangle your data into a tidy format\n",
    "Using only training data, summarize the data in at least one table (this is exploratory data analysis). An example of a useful table could be one that reports the number of observations in each class, the means of the predictor variables you plan to use in your analysis and how many rows have missing data. \n",
    "Using only training data, visualize the data with at least one plot relevant to the analysis you plan to do (this is exploratory data analysis). An example of a useful visualization could be one that compares the distributions of each of the predictor variables you plan to use in your analysis."
   ]
  },
  {
   "cell_type": "code",
   "execution_count": 4,
   "id": "1e388c00-18be-46a1-9148-c03dc955ec4e",
   "metadata": {
    "tags": []
   },
   "outputs": [],
   "source": [
    "library(tidyverse)\n",
    "library(repr)\n",
    "library(tidymodels)\n",
    "library(readxl)\n",
    "options(repr.matrix.max.rows = 6)\n"
   ]
  },
  {
   "cell_type": "code",
   "execution_count": 7,
   "id": "bc2f8dd3-895b-49c3-9e1b-1f36169b36c8",
   "metadata": {
    "tags": []
   },
   "outputs": [
    {
     "ename": "ERROR",
     "evalue": "Error: `path` does not exist: ‘https://github.com/JackyLinllk/ubc_dsci100_assignment/raw/main/data/Data_User_Modeling_Dataset_Hamdi%20Tolga%20KAHRAMAN.xls’\n",
     "output_type": "error",
     "traceback": [
      "Error: `path` does not exist: ‘https://github.com/JackyLinllk/ubc_dsci100_assignment/raw/main/data/Data_User_Modeling_Dataset_Hamdi%20Tolga%20KAHRAMAN.xls’\nTraceback:\n",
      "1. read_excel(url)",
      "2. check_file(path)",
      "3. stop(\"`path` does not exist: \", sQuote(path), call. = FALSE)"
     ]
    }
   ],
   "source": [
    "url <- \"https://github.com/JackyLinllk/ubc_dsci100_assignment/raw/main/data/Data_User_Modeling_Dataset_Hamdi%20Tolga%20KAHRAMAN.xls\"\n",
    "https://github.com/JackyLinllk/ubc_dsci100_assignment/raw/main/data/Data_User_Modeling_Dataset_Hamdi%20Tolga%20KAHRAMAN.xls\n",
    "data <-read_excel(url) \n"
   ]
  },
  {
   "cell_type": "code",
   "execution_count": null,
   "id": "b43ef399-ebfb-4ed4-8978-6aedd998067b",
   "metadata": {
    "tags": []
   },
   "outputs": [],
   "source": [
    "#loan_split <- initial_split(loan_data, prop = 0.75, strata = Default)  \n",
    "#loan_train <- training(loan_split)\n",
    "#loan_test <- testing(loan_split)"
   ]
  },
  {
   "cell_type": "markdown",
   "id": "2b9e56de-d499-4b31-9841-bc7189a7fe30",
   "metadata": {},
   "source": [
    "Methods:\n",
    "Explain how you will conduct either your data analysis and which variables/columns you will use. Note - you do not need to use all variables/columns that exist in the raw data set. In fact, that's often not a good idea. For each variable think: is this a useful variable for prediction?\n",
    "Describe at least one way that you will visualize the results"
   ]
  },
  {
   "cell_type": "markdown",
   "id": "a8c09b94-4d2f-4a5f-8dc6-d6cf86308153",
   "metadata": {},
   "source": [
    "Expected outcomes and significance:\n",
    "What do you expect to find?\n",
    "What impact could such findings have?\n",
    "What future questions could this lead to?"
   ]
  }
 ],
 "metadata": {
  "kernelspec": {
   "display_name": "R",
   "language": "R",
   "name": "ir"
  },
  "language_info": {
   "codemirror_mode": "r",
   "file_extension": ".r",
   "mimetype": "text/x-r-source",
   "name": "R",
   "pygments_lexer": "r",
   "version": "4.2.2"
  }
 },
 "nbformat": 4,
 "nbformat_minor": 5
}
