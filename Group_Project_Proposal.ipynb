{
 "cells": [
  {
   "cell_type": "markdown",
   "id": "be9a07b8-53a4-4e74-bdc5-6a55a217d38d",
   "metadata": {},
   "source": [
    "Title: \n"
   ]
  },
  {
   "cell_type": "markdown",
   "id": "95205d5c-5ff3-4a28-8d74-ef0247d69110",
   "metadata": {},
   "source": [
    "Introduction:\n",
    "Provide some relevant background information on the topic so that someone unfamiliar with it will be prepared to understand the rest of your proposal\n",
    "Clearly state the question you will try to answer with your project"
   ]
  },
  {
   "cell_type": "markdown",
   "id": "e08f30f3-226d-4a3b-bc03-b358396f94e7",
   "metadata": {},
   "source": [
    "Preliminary exploratory data analysis:\n",
    "\n",
    "Demonstrate that the dataset can be read from the web into R \n",
    "Clean and wrangle your data into a tidy format\n",
    "Using only training data, summarize the data in at least one table (this is exploratory data analysis). An example of a useful table could be one that reports the number of observations in each class, the means of the predictor variables you plan to use in your analysis and how many rows have missing data. \n",
    "Using only training data, visualize the data with at least one plot relevant to the analysis you plan to do (this is exploratory data analysis). An example of a useful visualization could be one that compares the distributions of each of the predictor variables you plan to use in your analysis."
   ]
  },
  {
   "cell_type": "code",
   "execution_count": 2,
   "id": "1e388c00-18be-46a1-9148-c03dc955ec4e",
   "metadata": {
    "tags": []
   },
   "outputs": [
    {
     "name": "stderr",
     "output_type": "stream",
     "text": [
      "── \u001b[1mAttaching packages\u001b[22m ─────────────────────────────────────── tidyverse 1.3.2 ──\n",
      "\u001b[32m✔\u001b[39m \u001b[34mggplot2\u001b[39m 3.4.2     \u001b[32m✔\u001b[39m \u001b[34mpurrr  \u001b[39m 1.0.1\n",
      "\u001b[32m✔\u001b[39m \u001b[34mtibble \u001b[39m 3.2.1     \u001b[32m✔\u001b[39m \u001b[34mdplyr  \u001b[39m 1.1.1\n",
      "\u001b[32m✔\u001b[39m \u001b[34mtidyr  \u001b[39m 1.3.0     \u001b[32m✔\u001b[39m \u001b[34mstringr\u001b[39m 1.5.0\n",
      "\u001b[32m✔\u001b[39m \u001b[34mreadr  \u001b[39m 2.1.3     \u001b[32m✔\u001b[39m \u001b[34mforcats\u001b[39m 0.5.2\n",
      "── \u001b[1mConflicts\u001b[22m ────────────────────────────────────────── tidyverse_conflicts() ──\n",
      "\u001b[31m✖\u001b[39m \u001b[34mdplyr\u001b[39m::\u001b[32mfilter()\u001b[39m masks \u001b[34mstats\u001b[39m::filter()\n",
      "\u001b[31m✖\u001b[39m \u001b[34mdplyr\u001b[39m::\u001b[32mlag()\u001b[39m    masks \u001b[34mstats\u001b[39m::lag()\n",
      "── \u001b[1mAttaching packages\u001b[22m ────────────────────────────────────── tidymodels 1.0.0 ──\n",
      "\n",
      "\u001b[32m✔\u001b[39m \u001b[34mbroom       \u001b[39m 1.0.2     \u001b[32m✔\u001b[39m \u001b[34mrsample     \u001b[39m 1.1.1\n",
      "\u001b[32m✔\u001b[39m \u001b[34mdials       \u001b[39m 1.1.0     \u001b[32m✔\u001b[39m \u001b[34mtune        \u001b[39m 1.0.1\n",
      "\u001b[32m✔\u001b[39m \u001b[34minfer       \u001b[39m 1.0.4     \u001b[32m✔\u001b[39m \u001b[34mworkflows   \u001b[39m 1.1.2\n",
      "\u001b[32m✔\u001b[39m \u001b[34mmodeldata   \u001b[39m 1.0.1     \u001b[32m✔\u001b[39m \u001b[34mworkflowsets\u001b[39m 1.0.0\n",
      "\u001b[32m✔\u001b[39m \u001b[34mparsnip     \u001b[39m 1.0.3     \u001b[32m✔\u001b[39m \u001b[34myardstick   \u001b[39m 1.1.0\n",
      "\u001b[32m✔\u001b[39m \u001b[34mrecipes     \u001b[39m 1.0.4     \n",
      "\n",
      "── \u001b[1mConflicts\u001b[22m ───────────────────────────────────────── tidymodels_conflicts() ──\n",
      "\u001b[31m✖\u001b[39m \u001b[34mscales\u001b[39m::\u001b[32mdiscard()\u001b[39m masks \u001b[34mpurrr\u001b[39m::discard()\n",
      "\u001b[31m✖\u001b[39m \u001b[34mdplyr\u001b[39m::\u001b[32mfilter()\u001b[39m   masks \u001b[34mstats\u001b[39m::filter()\n",
      "\u001b[31m✖\u001b[39m \u001b[34mrecipes\u001b[39m::\u001b[32mfixed()\u001b[39m  masks \u001b[34mstringr\u001b[39m::fixed()\n",
      "\u001b[31m✖\u001b[39m \u001b[34mdplyr\u001b[39m::\u001b[32mlag()\u001b[39m      masks \u001b[34mstats\u001b[39m::lag()\n",
      "\u001b[31m✖\u001b[39m \u001b[34myardstick\u001b[39m::\u001b[32mspec()\u001b[39m masks \u001b[34mreadr\u001b[39m::spec()\n",
      "\u001b[31m✖\u001b[39m \u001b[34mrecipes\u001b[39m::\u001b[32mstep()\u001b[39m   masks \u001b[34mstats\u001b[39m::step()\n",
      "\u001b[34m•\u001b[39m Use suppressPackageStartupMessages() to eliminate package startup messages\n",
      "\n"
     ]
    }
   ],
   "source": [
    "library(tidyverse)\n",
    "library(repr)\n",
    "library(tidymodels)\n",
    "options(repr.matrix.max.rows = 6)"
   ]
  },
  {
   "cell_type": "code",
   "execution_count": 7,
   "id": "b43ef399-ebfb-4ed4-8978-6aedd998067b",
   "metadata": {
    "tags": []
   },
   "outputs": [
    {
     "name": "stderr",
     "output_type": "stream",
     "text": [
      "\u001b[1mRows: \u001b[22m\u001b[34m255347\u001b[39m \u001b[1mColumns: \u001b[22m\u001b[34m18\u001b[39m\n",
      "\u001b[36m──\u001b[39m \u001b[1mColumn specification\u001b[22m \u001b[36m────────────────────────────────────────────────────────\u001b[39m\n",
      "\u001b[1mDelimiter:\u001b[22m \",\"\n",
      "\u001b[31mchr\u001b[39m  (8): LoanID, Education, EmploymentType, MaritalStatus, HasMortgage, Has...\n",
      "\u001b[32mdbl\u001b[39m (10): Age, Income, LoanAmount, CreditScore, MonthsEmployed, NumCreditLin...\n",
      "\n",
      "\u001b[36mℹ\u001b[39m Use `spec()` to retrieve the full column specification for this data.\n",
      "\u001b[36mℹ\u001b[39m Specify the column types or set `show_col_types = FALSE` to quiet this message.\n"
     ]
    },
    {
     "data": {
      "text/html": [
       "<table class=\"dataframe\">\n",
       "<caption>A tibble: 255347 × 19</caption>\n",
       "<thead>\n",
       "\t<tr><th scope=col>LoanID</th><th scope=col>Age</th><th scope=col>Income</th><th scope=col>LoanAmount</th><th scope=col>CreditScore</th><th scope=col>MonthsEmployed</th><th scope=col>NumCreditLines</th><th scope=col>InterestRate</th><th scope=col>LoanTerm</th><th scope=col>DTIRatio</th><th scope=col>Education</th><th scope=col>EmploymentType</th><th scope=col>MaritalStatus</th><th scope=col>HasMortgage</th><th scope=col>HasDependents</th><th scope=col>LoanPurpose</th><th scope=col>HasCoSigner</th><th scope=col>Default</th><th scope=col>Defaulted</th></tr>\n",
       "\t<tr><th scope=col>&lt;chr&gt;</th><th scope=col>&lt;dbl&gt;</th><th scope=col>&lt;dbl&gt;</th><th scope=col>&lt;dbl&gt;</th><th scope=col>&lt;dbl&gt;</th><th scope=col>&lt;dbl&gt;</th><th scope=col>&lt;dbl&gt;</th><th scope=col>&lt;dbl&gt;</th><th scope=col>&lt;dbl&gt;</th><th scope=col>&lt;dbl&gt;</th><th scope=col>&lt;chr&gt;</th><th scope=col>&lt;chr&gt;</th><th scope=col>&lt;chr&gt;</th><th scope=col>&lt;chr&gt;</th><th scope=col>&lt;chr&gt;</th><th scope=col>&lt;chr&gt;</th><th scope=col>&lt;chr&gt;</th><th scope=col>&lt;fct&gt;</th><th scope=col>&lt;fct&gt;</th></tr>\n",
       "</thead>\n",
       "<tbody>\n",
       "\t<tr><td>I38PQUQS96</td><td>56</td><td>85994</td><td> 50587</td><td>520</td><td>80</td><td>4</td><td>15.23</td><td>36</td><td>0.44</td><td>Bachelor's</td><td>Full-time </td><td>Divorced</td><td>Yes</td><td>Yes</td><td>Other</td><td>Yes</td><td>0</td><td>No </td></tr>\n",
       "\t<tr><td>HPSK72WA7R</td><td>69</td><td>50432</td><td>124440</td><td>458</td><td>15</td><td>1</td><td> 4.81</td><td>60</td><td>0.68</td><td>Master's  </td><td>Full-time </td><td>Married </td><td>No </td><td>No </td><td>Other</td><td>Yes</td><td>0</td><td>No </td></tr>\n",
       "\t<tr><td>C1OZ6DPJ8Y</td><td>46</td><td>84208</td><td>129188</td><td>451</td><td>26</td><td>3</td><td>21.17</td><td>24</td><td>0.31</td><td>Master's  </td><td>Unemployed</td><td>Divorced</td><td>Yes</td><td>Yes</td><td>Auto </td><td>No </td><td>1</td><td>Yes</td></tr>\n",
       "\t<tr><td>⋮</td><td>⋮</td><td>⋮</td><td>⋮</td><td>⋮</td><td>⋮</td><td>⋮</td><td>⋮</td><td>⋮</td><td>⋮</td><td>⋮</td><td>⋮</td><td>⋮</td><td>⋮</td><td>⋮</td><td>⋮</td><td>⋮</td><td>⋮</td><td>⋮</td></tr>\n",
       "\t<tr><td>XQK1UUUNGP</td><td>56</td><td>84820</td><td>208294</td><td>597</td><td> 70</td><td>3</td><td> 5.29</td><td>60</td><td>0.50</td><td>High School</td><td>Self-employed</td><td>Married </td><td>Yes</td><td>Yes</td><td>Auto     </td><td>Yes</td><td>0</td><td>No</td></tr>\n",
       "\t<tr><td>JAO28CPL4H</td><td>42</td><td>85109</td><td> 60575</td><td>809</td><td> 40</td><td>1</td><td>20.90</td><td>48</td><td>0.44</td><td>High School</td><td>Part-time    </td><td>Single  </td><td>Yes</td><td>Yes</td><td>Other    </td><td>No </td><td>0</td><td>No</td></tr>\n",
       "\t<tr><td>ZTH91CGL0B</td><td>62</td><td>22418</td><td> 18481</td><td>636</td><td>113</td><td>2</td><td> 6.73</td><td>12</td><td>0.48</td><td>Bachelor's </td><td>Unemployed   </td><td>Divorced</td><td>Yes</td><td>No </td><td>Education</td><td>Yes</td><td>0</td><td>No</td></tr>\n",
       "</tbody>\n",
       "</table>\n"
      ],
      "text/latex": [
       "A tibble: 255347 × 19\n",
       "\\begin{tabular}{lllllllllllllllllll}\n",
       " LoanID & Age & Income & LoanAmount & CreditScore & MonthsEmployed & NumCreditLines & InterestRate & LoanTerm & DTIRatio & Education & EmploymentType & MaritalStatus & HasMortgage & HasDependents & LoanPurpose & HasCoSigner & Default & Defaulted\\\\\n",
       " <chr> & <dbl> & <dbl> & <dbl> & <dbl> & <dbl> & <dbl> & <dbl> & <dbl> & <dbl> & <chr> & <chr> & <chr> & <chr> & <chr> & <chr> & <chr> & <fct> & <fct>\\\\\n",
       "\\hline\n",
       "\t I38PQUQS96 & 56 & 85994 &  50587 & 520 & 80 & 4 & 15.23 & 36 & 0.44 & Bachelor's & Full-time  & Divorced & Yes & Yes & Other & Yes & 0 & No \\\\\n",
       "\t HPSK72WA7R & 69 & 50432 & 124440 & 458 & 15 & 1 &  4.81 & 60 & 0.68 & Master's   & Full-time  & Married  & No  & No  & Other & Yes & 0 & No \\\\\n",
       "\t C1OZ6DPJ8Y & 46 & 84208 & 129188 & 451 & 26 & 3 & 21.17 & 24 & 0.31 & Master's   & Unemployed & Divorced & Yes & Yes & Auto  & No  & 1 & Yes\\\\\n",
       "\t ⋮ & ⋮ & ⋮ & ⋮ & ⋮ & ⋮ & ⋮ & ⋮ & ⋮ & ⋮ & ⋮ & ⋮ & ⋮ & ⋮ & ⋮ & ⋮ & ⋮ & ⋮ & ⋮\\\\\n",
       "\t XQK1UUUNGP & 56 & 84820 & 208294 & 597 &  70 & 3 &  5.29 & 60 & 0.50 & High School & Self-employed & Married  & Yes & Yes & Auto      & Yes & 0 & No\\\\\n",
       "\t JAO28CPL4H & 42 & 85109 &  60575 & 809 &  40 & 1 & 20.90 & 48 & 0.44 & High School & Part-time     & Single   & Yes & Yes & Other     & No  & 0 & No\\\\\n",
       "\t ZTH91CGL0B & 62 & 22418 &  18481 & 636 & 113 & 2 &  6.73 & 12 & 0.48 & Bachelor's  & Unemployed    & Divorced & Yes & No  & Education & Yes & 0 & No\\\\\n",
       "\\end{tabular}\n"
      ],
      "text/markdown": [
       "\n",
       "A tibble: 255347 × 19\n",
       "\n",
       "| LoanID &lt;chr&gt; | Age &lt;dbl&gt; | Income &lt;dbl&gt; | LoanAmount &lt;dbl&gt; | CreditScore &lt;dbl&gt; | MonthsEmployed &lt;dbl&gt; | NumCreditLines &lt;dbl&gt; | InterestRate &lt;dbl&gt; | LoanTerm &lt;dbl&gt; | DTIRatio &lt;dbl&gt; | Education &lt;chr&gt; | EmploymentType &lt;chr&gt; | MaritalStatus &lt;chr&gt; | HasMortgage &lt;chr&gt; | HasDependents &lt;chr&gt; | LoanPurpose &lt;chr&gt; | HasCoSigner &lt;chr&gt; | Default &lt;fct&gt; | Defaulted &lt;fct&gt; |\n",
       "|---|---|---|---|---|---|---|---|---|---|---|---|---|---|---|---|---|---|---|\n",
       "| I38PQUQS96 | 56 | 85994 |  50587 | 520 | 80 | 4 | 15.23 | 36 | 0.44 | Bachelor's | Full-time  | Divorced | Yes | Yes | Other | Yes | 0 | No  |\n",
       "| HPSK72WA7R | 69 | 50432 | 124440 | 458 | 15 | 1 |  4.81 | 60 | 0.68 | Master's   | Full-time  | Married  | No  | No  | Other | Yes | 0 | No  |\n",
       "| C1OZ6DPJ8Y | 46 | 84208 | 129188 | 451 | 26 | 3 | 21.17 | 24 | 0.31 | Master's   | Unemployed | Divorced | Yes | Yes | Auto  | No  | 1 | Yes |\n",
       "| ⋮ | ⋮ | ⋮ | ⋮ | ⋮ | ⋮ | ⋮ | ⋮ | ⋮ | ⋮ | ⋮ | ⋮ | ⋮ | ⋮ | ⋮ | ⋮ | ⋮ | ⋮ | ⋮ |\n",
       "| XQK1UUUNGP | 56 | 84820 | 208294 | 597 |  70 | 3 |  5.29 | 60 | 0.50 | High School | Self-employed | Married  | Yes | Yes | Auto      | Yes | 0 | No |\n",
       "| JAO28CPL4H | 42 | 85109 |  60575 | 809 |  40 | 1 | 20.90 | 48 | 0.44 | High School | Part-time     | Single   | Yes | Yes | Other     | No  | 0 | No |\n",
       "| ZTH91CGL0B | 62 | 22418 |  18481 | 636 | 113 | 2 |  6.73 | 12 | 0.48 | Bachelor's  | Unemployed    | Divorced | Yes | No  | Education | Yes | 0 | No |\n",
       "\n"
      ],
      "text/plain": [
       "       LoanID     Age Income LoanAmount CreditScore MonthsEmployed\n",
       "1      I38PQUQS96 56  85994   50587     520         80            \n",
       "2      HPSK72WA7R 69  50432  124440     458         15            \n",
       "3      C1OZ6DPJ8Y 46  84208  129188     451         26            \n",
       "⋮      ⋮          ⋮   ⋮      ⋮          ⋮           ⋮             \n",
       "255345 XQK1UUUNGP 56  84820  208294     597          70           \n",
       "255346 JAO28CPL4H 42  85109   60575     809          40           \n",
       "255347 ZTH91CGL0B 62  22418   18481     636         113           \n",
       "       NumCreditLines InterestRate LoanTerm DTIRatio Education   EmploymentType\n",
       "1      4              15.23        36       0.44     Bachelor's  Full-time     \n",
       "2      1               4.81        60       0.68     Master's    Full-time     \n",
       "3      3              21.17        24       0.31     Master's    Unemployed    \n",
       "⋮      ⋮              ⋮            ⋮        ⋮        ⋮           ⋮             \n",
       "255345 3               5.29        60       0.50     High School Self-employed \n",
       "255346 1              20.90        48       0.44     High School Part-time     \n",
       "255347 2               6.73        12       0.48     Bachelor's  Unemployed    \n",
       "       MaritalStatus HasMortgage HasDependents LoanPurpose HasCoSigner Default\n",
       "1      Divorced      Yes         Yes           Other       Yes         0      \n",
       "2      Married       No          No            Other       Yes         0      \n",
       "3      Divorced      Yes         Yes           Auto        No          1      \n",
       "⋮      ⋮             ⋮           ⋮             ⋮           ⋮           ⋮      \n",
       "255345 Married       Yes         Yes           Auto        Yes         0      \n",
       "255346 Single        Yes         Yes           Other       No          0      \n",
       "255347 Divorced      Yes         No            Education   Yes         0      \n",
       "       Defaulted\n",
       "1      No       \n",
       "2      No       \n",
       "3      Yes      \n",
       "⋮      ⋮        \n",
       "255345 No       \n",
       "255346 No       \n",
       "255347 No       "
      ]
     },
     "metadata": {},
     "output_type": "display_data"
    },
    {
     "data": {
      "text/html": [
       "<table class=\"dataframe\">\n",
       "<caption>A tibble: 2 × 2</caption>\n",
       "<thead>\n",
       "\t<tr><th scope=col>Defaulted</th><th scope=col>count</th></tr>\n",
       "\t<tr><th scope=col>&lt;fct&gt;</th><th scope=col>&lt;int&gt;</th></tr>\n",
       "</thead>\n",
       "<tbody>\n",
       "\t<tr><td>No </td><td>169270</td></tr>\n",
       "\t<tr><td>Yes</td><td> 22239</td></tr>\n",
       "</tbody>\n",
       "</table>\n"
      ],
      "text/latex": [
       "A tibble: 2 × 2\n",
       "\\begin{tabular}{ll}\n",
       " Defaulted & count\\\\\n",
       " <fct> & <int>\\\\\n",
       "\\hline\n",
       "\t No  & 169270\\\\\n",
       "\t Yes &  22239\\\\\n",
       "\\end{tabular}\n"
      ],
      "text/markdown": [
       "\n",
       "A tibble: 2 × 2\n",
       "\n",
       "| Defaulted &lt;fct&gt; | count &lt;int&gt; |\n",
       "|---|---|\n",
       "| No  | 169270 |\n",
       "| Yes |  22239 |\n",
       "\n"
      ],
      "text/plain": [
       "  Defaulted count \n",
       "1 No        169270\n",
       "2 Yes        22239"
      ]
     },
     "metadata": {},
     "output_type": "display_data"
    }
   ],
   "source": [
    "url <-\"https://github.com/JackyLinllk/ubc_dsci100_assignment/raw/main/loan_default.csv\"\n",
    "loan_data <-read_csv(url)|>\n",
    "    mutate(Default = as.factor(Default)) |>\n",
    "    mutate(Defaulted = fct_recode(Default, \"Yes\" = \"1\" , \"No\" = \"0\"))\n",
    "loan_data\n",
    "\n",
    "loan_split <- initial_split(loan_data, prop = 0.75, strata = Default)  \n",
    "loan_train <- training(loan_split)\n",
    "loan_test <- testing(loan_split)\n",
    "\n",
    "yesnoratio <- loan_train|>\n",
    "    group_by(Defaulted)|>\n",
    "    summarize(count = n())\n",
    "yesnoratio"
   ]
  },
  {
   "cell_type": "markdown",
   "id": "2b9e56de-d499-4b31-9841-bc7189a7fe30",
   "metadata": {},
   "source": [
    "Methods:\n",
    "Explain how you will conduct either your data analysis and which variables/columns you will use. Note - you do not need to use all variables/columns that exist in the raw data set. In fact, that's often not a good idea. For each variable think: is this a useful variable for prediction?\n",
    "Describe at least one way that you will visualize the results"
   ]
  },
  {
   "cell_type": "markdown",
   "id": "a8c09b94-4d2f-4a5f-8dc6-d6cf86308153",
   "metadata": {},
   "source": [
    "Expected outcomes and significance:\n",
    "What do you expect to find?\n",
    "What impact could such findings have?\n",
    "What future questions could this lead to?"
   ]
  }
 ],
 "metadata": {
  "kernelspec": {
   "display_name": "R",
   "language": "R",
   "name": "ir"
  },
  "language_info": {
   "codemirror_mode": "r",
   "file_extension": ".r",
   "mimetype": "text/x-r-source",
   "name": "R",
   "pygments_lexer": "r",
   "version": "4.2.2"
  }
 },
 "nbformat": 4,
 "nbformat_minor": 5
}
