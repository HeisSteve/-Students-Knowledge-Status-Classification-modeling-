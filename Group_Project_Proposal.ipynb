{
 "cells": [
  {
   "cell_type": "markdown",
   "id": "be9a07b8-53a4-4e74-bdc5-6a55a217d38d",
   "metadata": {},
   "source": [
    "Title: \n"
   ]
  },
  {
   "cell_type": "markdown",
   "id": "95205d5c-5ff3-4a28-8d74-ef0247d69110",
   "metadata": {},
   "source": [
    "Introduction:\n",
    "Provide some relevant background information on the topic so that someone unfamiliar with it will be prepared to understand the rest of your proposal\n",
    "Clearly state the question you will try to answer with your project"
   ]
  },
  {
   "cell_type": "markdown",
   "id": "e08f30f3-226d-4a3b-bc03-b358396f94e7",
   "metadata": {},
   "source": [
    "Preliminary exploratory data analysis:\n",
    "\n",
    "Demonstrate that the dataset can be read from the web into R \n",
    "Clean and wrangle your data into a tidy format\n",
    "Using only training data, summarize the data in at least one table (this is exploratory data analysis). An example of a useful table could be one that reports the number of observations in each class, the means of the predictor variables you plan to use in your analysis and how many rows have missing data. \n",
    "Using only training data, visualize the data with at least one plot relevant to the analysis you plan to do (this is exploratory data analysis). An example of a useful visualization could be one that compares the distributions of each of the predictor variables you plan to use in your analysis."
   ]
  },
  {
   "cell_type": "code",
   "execution_count": 1,
   "id": "1e388c00-18be-46a1-9148-c03dc955ec4e",
   "metadata": {
    "tags": []
   },
   "outputs": [
    {
     "name": "stderr",
     "output_type": "stream",
     "text": [
      "── \u001b[1mAttaching packages\u001b[22m ─────────────────────────────────────── tidyverse 1.3.2 ──\n",
      "\u001b[32m✔\u001b[39m \u001b[34mggplot2\u001b[39m 3.4.2     \u001b[32m✔\u001b[39m \u001b[34mpurrr  \u001b[39m 1.0.1\n",
      "\u001b[32m✔\u001b[39m \u001b[34mtibble \u001b[39m 3.2.1     \u001b[32m✔\u001b[39m \u001b[34mdplyr  \u001b[39m 1.1.1\n",
      "\u001b[32m✔\u001b[39m \u001b[34mtidyr  \u001b[39m 1.3.0     \u001b[32m✔\u001b[39m \u001b[34mstringr\u001b[39m 1.5.0\n",
      "\u001b[32m✔\u001b[39m \u001b[34mreadr  \u001b[39m 2.1.3     \u001b[32m✔\u001b[39m \u001b[34mforcats\u001b[39m 0.5.2\n",
      "── \u001b[1mConflicts\u001b[22m ────────────────────────────────────────── tidyverse_conflicts() ──\n",
      "\u001b[31m✖\u001b[39m \u001b[34mdplyr\u001b[39m::\u001b[32mfilter()\u001b[39m masks \u001b[34mstats\u001b[39m::filter()\n",
      "\u001b[31m✖\u001b[39m \u001b[34mdplyr\u001b[39m::\u001b[32mlag()\u001b[39m    masks \u001b[34mstats\u001b[39m::lag()\n",
      "── \u001b[1mAttaching packages\u001b[22m ────────────────────────────────────── tidymodels 1.0.0 ──\n",
      "\n",
      "\u001b[32m✔\u001b[39m \u001b[34mbroom       \u001b[39m 1.0.2     \u001b[32m✔\u001b[39m \u001b[34mrsample     \u001b[39m 1.1.1\n",
      "\u001b[32m✔\u001b[39m \u001b[34mdials       \u001b[39m 1.1.0     \u001b[32m✔\u001b[39m \u001b[34mtune        \u001b[39m 1.0.1\n",
      "\u001b[32m✔\u001b[39m \u001b[34minfer       \u001b[39m 1.0.4     \u001b[32m✔\u001b[39m \u001b[34mworkflows   \u001b[39m 1.1.2\n",
      "\u001b[32m✔\u001b[39m \u001b[34mmodeldata   \u001b[39m 1.0.1     \u001b[32m✔\u001b[39m \u001b[34mworkflowsets\u001b[39m 1.0.0\n",
      "\u001b[32m✔\u001b[39m \u001b[34mparsnip     \u001b[39m 1.0.3     \u001b[32m✔\u001b[39m \u001b[34myardstick   \u001b[39m 1.1.0\n",
      "\u001b[32m✔\u001b[39m \u001b[34mrecipes     \u001b[39m 1.0.4     \n",
      "\n",
      "── \u001b[1mConflicts\u001b[22m ───────────────────────────────────────── tidymodels_conflicts() ──\n",
      "\u001b[31m✖\u001b[39m \u001b[34mscales\u001b[39m::\u001b[32mdiscard()\u001b[39m masks \u001b[34mpurrr\u001b[39m::discard()\n",
      "\u001b[31m✖\u001b[39m \u001b[34mdplyr\u001b[39m::\u001b[32mfilter()\u001b[39m   masks \u001b[34mstats\u001b[39m::filter()\n",
      "\u001b[31m✖\u001b[39m \u001b[34mrecipes\u001b[39m::\u001b[32mfixed()\u001b[39m  masks \u001b[34mstringr\u001b[39m::fixed()\n",
      "\u001b[31m✖\u001b[39m \u001b[34mdplyr\u001b[39m::\u001b[32mlag()\u001b[39m      masks \u001b[34mstats\u001b[39m::lag()\n",
      "\u001b[31m✖\u001b[39m \u001b[34myardstick\u001b[39m::\u001b[32mspec()\u001b[39m masks \u001b[34mreadr\u001b[39m::spec()\n",
      "\u001b[31m✖\u001b[39m \u001b[34mrecipes\u001b[39m::\u001b[32mstep()\u001b[39m   masks \u001b[34mstats\u001b[39m::step()\n",
      "\u001b[34m•\u001b[39m Dig deeper into tidy modeling with R at \u001b[32mhttps://www.tmwr.org\u001b[39m\n",
      "\n"
     ]
    }
   ],
   "source": [
    "library(tidyverse)\n",
    "library(repr)\n",
    "library(tidymodels)\n",
    "options(repr.matrix.max.rows = 6)\n"
   ]
  },
  {
   "cell_type": "code",
   "execution_count": 3,
   "id": "bc2f8dd3-895b-49c3-9e1b-1f36169b36c8",
   "metadata": {
    "tags": []
   },
   "outputs": [
    {
     "name": "stderr",
     "output_type": "stream",
     "text": [
      "\u001b[1mRows: \u001b[22m\u001b[34m2293\u001b[39m \u001b[1mColumns: \u001b[22m\u001b[34m10\u001b[39m\n",
      "\u001b[36m──\u001b[39m \u001b[1mColumn specification\u001b[22m \u001b[36m────────────────────────────────────────────────────────\u001b[39m\n",
      "\u001b[1mDelimiter:\u001b[22m \",\"\n",
      "\u001b[32mdbl\u001b[39m (10): ph, Hardness, Solids, Chloramines, Sulfate, Conductivity, Organic_...\n",
      "\n",
      "\u001b[36mℹ\u001b[39m Use `spec()` to retrieve the full column specification for this data.\n",
      "\u001b[36mℹ\u001b[39m Specify the column types or set `show_col_types = FALSE` to quiet this message.\n"
     ]
    },
    {
     "data": {
      "text/html": [
       "<table class=\"dataframe\">\n",
       "<caption>A tibble: 2293 × 10</caption>\n",
       "<thead>\n",
       "\t<tr><th scope=col>ph</th><th scope=col>Hardness</th><th scope=col>Solids</th><th scope=col>Chloramines</th><th scope=col>Sulfate</th><th scope=col>Conductivity</th><th scope=col>Organic_carbon</th><th scope=col>Trihalomethanes</th><th scope=col>Turbidity</th><th scope=col>Potability</th></tr>\n",
       "\t<tr><th scope=col>&lt;dbl&gt;</th><th scope=col>&lt;dbl&gt;</th><th scope=col>&lt;dbl&gt;</th><th scope=col>&lt;dbl&gt;</th><th scope=col>&lt;dbl&gt;</th><th scope=col>&lt;dbl&gt;</th><th scope=col>&lt;dbl&gt;</th><th scope=col>&lt;dbl&gt;</th><th scope=col>&lt;dbl&gt;</th><th scope=col>&lt;fct&gt;</th></tr>\n",
       "</thead>\n",
       "<tbody>\n",
       "\t<tr><td>7.080795</td><td>219.6743</td><td>22210.61</td><td>5.875041</td><td>333.7758</td><td>398.5177</td><td>11.50232</td><td>112.41221</td><td>2.994259</td><td>Potable    </td></tr>\n",
       "\t<tr><td>6.783888</td><td>193.6536</td><td>13677.11</td><td>5.171454</td><td>323.7287</td><td>477.8547</td><td>15.05606</td><td> 66.39629</td><td>3.250022</td><td>Potable    </td></tr>\n",
       "\t<tr><td>6.010618</td><td>184.5586</td><td>15940.57</td><td>8.165222</td><td>421.4861</td><td>314.5298</td><td>20.31462</td><td> 83.70794</td><td>4.867287</td><td>Not Potable</td></tr>\n",
       "\t<tr><td>⋮</td><td>⋮</td><td>⋮</td><td>⋮</td><td>⋮</td><td>⋮</td><td>⋮</td><td>⋮</td><td>⋮</td><td>⋮</td></tr>\n",
       "\t<tr><td>7.790875</td><td>196.4787</td><td>24061.35</td><td>6.785685</td><td>350.1173</td><td>471.5185</td><td>15.34332</td><td>44.54463</td><td>3.076214</td><td>Potable    </td></tr>\n",
       "\t<tr><td>6.139743</td><td>168.4442</td><td>23894.14</td><td>9.494582</td><td>318.0261</td><td>494.1291</td><td>19.11602</td><td>60.26477</td><td>3.841222</td><td>Potable    </td></tr>\n",
       "\t<tr><td>7.080795</td><td>143.3002</td><td>16263.17</td><td>6.229737</td><td>333.7758</td><td>503.6641</td><td>19.58550</td><td>66.39629</td><td>3.451740</td><td>Not Potable</td></tr>\n",
       "</tbody>\n",
       "</table>\n"
      ],
      "text/latex": [
       "A tibble: 2293 × 10\n",
       "\\begin{tabular}{llllllllll}\n",
       " ph & Hardness & Solids & Chloramines & Sulfate & Conductivity & Organic\\_carbon & Trihalomethanes & Turbidity & Potability\\\\\n",
       " <dbl> & <dbl> & <dbl> & <dbl> & <dbl> & <dbl> & <dbl> & <dbl> & <dbl> & <fct>\\\\\n",
       "\\hline\n",
       "\t 7.080795 & 219.6743 & 22210.61 & 5.875041 & 333.7758 & 398.5177 & 11.50232 & 112.41221 & 2.994259 & Potable    \\\\\n",
       "\t 6.783888 & 193.6536 & 13677.11 & 5.171454 & 323.7287 & 477.8547 & 15.05606 &  66.39629 & 3.250022 & Potable    \\\\\n",
       "\t 6.010618 & 184.5586 & 15940.57 & 8.165222 & 421.4861 & 314.5298 & 20.31462 &  83.70794 & 4.867287 & Not Potable\\\\\n",
       "\t ⋮ & ⋮ & ⋮ & ⋮ & ⋮ & ⋮ & ⋮ & ⋮ & ⋮ & ⋮\\\\\n",
       "\t 7.790875 & 196.4787 & 24061.35 & 6.785685 & 350.1173 & 471.5185 & 15.34332 & 44.54463 & 3.076214 & Potable    \\\\\n",
       "\t 6.139743 & 168.4442 & 23894.14 & 9.494582 & 318.0261 & 494.1291 & 19.11602 & 60.26477 & 3.841222 & Potable    \\\\\n",
       "\t 7.080795 & 143.3002 & 16263.17 & 6.229737 & 333.7758 & 503.6641 & 19.58550 & 66.39629 & 3.451740 & Not Potable\\\\\n",
       "\\end{tabular}\n"
      ],
      "text/markdown": [
       "\n",
       "A tibble: 2293 × 10\n",
       "\n",
       "| ph &lt;dbl&gt; | Hardness &lt;dbl&gt; | Solids &lt;dbl&gt; | Chloramines &lt;dbl&gt; | Sulfate &lt;dbl&gt; | Conductivity &lt;dbl&gt; | Organic_carbon &lt;dbl&gt; | Trihalomethanes &lt;dbl&gt; | Turbidity &lt;dbl&gt; | Potability &lt;fct&gt; |\n",
       "|---|---|---|---|---|---|---|---|---|---|\n",
       "| 7.080795 | 219.6743 | 22210.61 | 5.875041 | 333.7758 | 398.5177 | 11.50232 | 112.41221 | 2.994259 | Potable     |\n",
       "| 6.783888 | 193.6536 | 13677.11 | 5.171454 | 323.7287 | 477.8547 | 15.05606 |  66.39629 | 3.250022 | Potable     |\n",
       "| 6.010618 | 184.5586 | 15940.57 | 8.165222 | 421.4861 | 314.5298 | 20.31462 |  83.70794 | 4.867287 | Not Potable |\n",
       "| ⋮ | ⋮ | ⋮ | ⋮ | ⋮ | ⋮ | ⋮ | ⋮ | ⋮ | ⋮ |\n",
       "| 7.790875 | 196.4787 | 24061.35 | 6.785685 | 350.1173 | 471.5185 | 15.34332 | 44.54463 | 3.076214 | Potable     |\n",
       "| 6.139743 | 168.4442 | 23894.14 | 9.494582 | 318.0261 | 494.1291 | 19.11602 | 60.26477 | 3.841222 | Potable     |\n",
       "| 7.080795 | 143.3002 | 16263.17 | 6.229737 | 333.7758 | 503.6641 | 19.58550 | 66.39629 | 3.451740 | Not Potable |\n",
       "\n"
      ],
      "text/plain": [
       "     ph       Hardness Solids   Chloramines Sulfate  Conductivity\n",
       "1    7.080795 219.6743 22210.61 5.875041    333.7758 398.5177    \n",
       "2    6.783888 193.6536 13677.11 5.171454    323.7287 477.8547    \n",
       "3    6.010618 184.5586 15940.57 8.165222    421.4861 314.5298    \n",
       "⋮    ⋮        ⋮        ⋮        ⋮           ⋮        ⋮           \n",
       "2291 7.790875 196.4787 24061.35 6.785685    350.1173 471.5185    \n",
       "2292 6.139743 168.4442 23894.14 9.494582    318.0261 494.1291    \n",
       "2293 7.080795 143.3002 16263.17 6.229737    333.7758 503.6641    \n",
       "     Organic_carbon Trihalomethanes Turbidity Potability \n",
       "1    11.50232       112.41221       2.994259  Potable    \n",
       "2    15.05606        66.39629       3.250022  Potable    \n",
       "3    20.31462        83.70794       4.867287  Not Potable\n",
       "⋮    ⋮              ⋮               ⋮         ⋮          \n",
       "2291 15.34332       44.54463        3.076214  Potable    \n",
       "2292 19.11602       60.26477        3.841222  Potable    \n",
       "2293 19.58550       66.39629        3.451740  Not Potable"
      ]
     },
     "metadata": {},
     "output_type": "display_data"
    },
    {
     "data": {
      "text/html": [
       "<table class=\"dataframe\">\n",
       "<caption>A tibble: 2 × 2</caption>\n",
       "<thead>\n",
       "\t<tr><th scope=col>Potability</th><th scope=col>count</th></tr>\n",
       "\t<tr><th scope=col>&lt;fct&gt;</th><th scope=col>&lt;int&gt;</th></tr>\n",
       "</thead>\n",
       "<tbody>\n",
       "\t<tr><td>Potable    </td><td>1398</td></tr>\n",
       "\t<tr><td>Not Potable</td><td> 895</td></tr>\n",
       "</tbody>\n",
       "</table>\n"
      ],
      "text/latex": [
       "A tibble: 2 × 2\n",
       "\\begin{tabular}{ll}\n",
       " Potability & count\\\\\n",
       " <fct> & <int>\\\\\n",
       "\\hline\n",
       "\t Potable     & 1398\\\\\n",
       "\t Not Potable &  895\\\\\n",
       "\\end{tabular}\n"
      ],
      "text/markdown": [
       "\n",
       "A tibble: 2 × 2\n",
       "\n",
       "| Potability &lt;fct&gt; | count &lt;int&gt; |\n",
       "|---|---|\n",
       "| Potable     | 1398 |\n",
       "| Not Potable |  895 |\n",
       "\n"
      ],
      "text/plain": [
       "  Potability  count\n",
       "1 Potable     1398 \n",
       "2 Not Potable  895 "
      ]
     },
     "metadata": {},
     "output_type": "display_data"
    },
    {
     "data": {
      "text/html": [
       "<table class=\"dataframe\">\n",
       "<caption>A tibble: 1 × 2</caption>\n",
       "<thead>\n",
       "\t<tr><th scope=col>Potable_Observations</th><th scope=col>Not_Potable_Observations</th></tr>\n",
       "\t<tr><th scope=col>&lt;int&gt;</th><th scope=col>&lt;int&gt;</th></tr>\n",
       "</thead>\n",
       "<tbody>\n",
       "\t<tr><td>1398</td><td>895</td></tr>\n",
       "</tbody>\n",
       "</table>\n"
      ],
      "text/latex": [
       "A tibble: 1 × 2\n",
       "\\begin{tabular}{ll}\n",
       " Potable\\_Observations & Not\\_Potable\\_Observations\\\\\n",
       " <int> & <int>\\\\\n",
       "\\hline\n",
       "\t 1398 & 895\\\\\n",
       "\\end{tabular}\n"
      ],
      "text/markdown": [
       "\n",
       "A tibble: 1 × 2\n",
       "\n",
       "| Potable_Observations &lt;int&gt; | Not_Potable_Observations &lt;int&gt; |\n",
       "|---|---|\n",
       "| 1398 | 895 |\n",
       "\n"
      ],
      "text/plain": [
       "  Potable_Observations Not_Potable_Observations\n",
       "1 1398                 895                     "
      ]
     },
     "metadata": {},
     "output_type": "display_data"
    },
    {
     "data": {
      "text/html": [
       "<table class=\"dataframe\">\n",
       "<caption>A tibble: 1 × 9</caption>\n",
       "<thead>\n",
       "\t<tr><th scope=col>ph</th><th scope=col>Hardness</th><th scope=col>Solids</th><th scope=col>Chloramines</th><th scope=col>Sulfate</th><th scope=col>Conductivity</th><th scope=col>Organic_carbon</th><th scope=col>Trihalomethanes</th><th scope=col>Turbidity</th></tr>\n",
       "\t<tr><th scope=col>&lt;dbl&gt;</th><th scope=col>&lt;dbl&gt;</th><th scope=col>&lt;dbl&gt;</th><th scope=col>&lt;dbl&gt;</th><th scope=col>&lt;dbl&gt;</th><th scope=col>&lt;dbl&gt;</th><th scope=col>&lt;dbl&gt;</th><th scope=col>&lt;dbl&gt;</th><th scope=col>&lt;dbl&gt;</th></tr>\n",
       "</thead>\n",
       "<tbody>\n",
       "\t<tr><td>7.082265</td><td>196.3903</td><td>22074.34</td><td>7.132987</td><td>333.3933</td><td>425.4557</td><td>14.22917</td><td>66.49952</td><td>3.967153</td></tr>\n",
       "</tbody>\n",
       "</table>\n"
      ],
      "text/latex": [
       "A tibble: 1 × 9\n",
       "\\begin{tabular}{lllllllll}\n",
       " ph & Hardness & Solids & Chloramines & Sulfate & Conductivity & Organic\\_carbon & Trihalomethanes & Turbidity\\\\\n",
       " <dbl> & <dbl> & <dbl> & <dbl> & <dbl> & <dbl> & <dbl> & <dbl> & <dbl>\\\\\n",
       "\\hline\n",
       "\t 7.082265 & 196.3903 & 22074.34 & 7.132987 & 333.3933 & 425.4557 & 14.22917 & 66.49952 & 3.967153\\\\\n",
       "\\end{tabular}\n"
      ],
      "text/markdown": [
       "\n",
       "A tibble: 1 × 9\n",
       "\n",
       "| ph &lt;dbl&gt; | Hardness &lt;dbl&gt; | Solids &lt;dbl&gt; | Chloramines &lt;dbl&gt; | Sulfate &lt;dbl&gt; | Conductivity &lt;dbl&gt; | Organic_carbon &lt;dbl&gt; | Trihalomethanes &lt;dbl&gt; | Turbidity &lt;dbl&gt; |\n",
       "|---|---|---|---|---|---|---|---|---|\n",
       "| 7.082265 | 196.3903 | 22074.34 | 7.132987 | 333.3933 | 425.4557 | 14.22917 | 66.49952 | 3.967153 |\n",
       "\n"
      ],
      "text/plain": [
       "  ph       Hardness Solids   Chloramines Sulfate  Conductivity Organic_carbon\n",
       "1 7.082265 196.3903 22074.34 7.132987    333.3933 425.4557     14.22917      \n",
       "  Trihalomethanes Turbidity\n",
       "1 66.49952        3.967153 "
      ]
     },
     "metadata": {},
     "output_type": "display_data"
    }
   ],
   "source": [
    "url <-\"https://github.com/JackyLinllk/ubc_dsci100_assignment/raw/main/data/train_dataset.csv\"\n",
    "water_data <-read_csv(url) |>\n",
    "    mutate(Potability = as.factor(Potability))|>\n",
    "    mutate(Potability = fct_recode(Potability, \"Potable\" = \"0\", \"Not Potable\" = \"1\"))\n",
    "water_data\n",
    "\n",
    "water_data_class_count <- water_data |>\n",
    "    group_by(Potability)|>\n",
    "    summarize(count = n())\n",
    "water_data_class_count \n",
    "\n",
    "water_data_class_count_wider <- pivot_wider(water_data_class_count, \n",
    "                                            names_from = Potability, values_from = count) |>\n",
    "            rename(\"Potable_Observations\" = \"Potable\", \"Not_Potable_Observations\" = \"Not Potable\" )\n",
    "\n",
    "water_data_class_count_wider\n",
    "\n",
    "water_data_predictor_mean <-water_data|>\n",
    "    select(-Potability)|>\n",
    "map_df(mean)\n",
    "\n",
    "water_data_predictor_mean\n",
    "\n",
    "#summarytable <- bind_cols(water_data_class_count_wider, water_data_map)\n",
    "#summarytable"
   ]
  },
  {
   "cell_type": "code",
   "execution_count": 30,
   "id": "b43ef399-ebfb-4ed4-8978-6aedd998067b",
   "metadata": {
    "tags": []
   },
   "outputs": [],
   "source": [
    "#loan_split <- initial_split(loan_data, prop = 0.75, strata = Default)  \n",
    "#loan_train <- training(loan_split)\n",
    "#loan_test <- testing(loan_split)"
   ]
  },
  {
   "cell_type": "markdown",
   "id": "2b9e56de-d499-4b31-9841-bc7189a7fe30",
   "metadata": {},
   "source": [
    "Methods:\n",
    "Explain how you will conduct either your data analysis and which variables/columns you will use. Note - you do not need to use all variables/columns that exist in the raw data set. In fact, that's often not a good idea. For each variable think: is this a useful variable for prediction?\n",
    "Describe at least one way that you will visualize the results"
   ]
  },
  {
   "cell_type": "markdown",
   "id": "a8c09b94-4d2f-4a5f-8dc6-d6cf86308153",
   "metadata": {},
   "source": [
    "Expected outcomes and significance:\n",
    "What do you expect to find?\n",
    "What impact could such findings have?\n",
    "What future questions could this lead to?"
   ]
  }
 ],
 "metadata": {
  "kernelspec": {
   "display_name": "R",
   "language": "R",
   "name": "ir"
  },
  "language_info": {
   "codemirror_mode": "r",
   "file_extension": ".r",
   "mimetype": "text/x-r-source",
   "name": "R",
   "pygments_lexer": "r",
   "version": "4.2.2"
  }
 },
 "nbformat": 4,
 "nbformat_minor": 5
}
