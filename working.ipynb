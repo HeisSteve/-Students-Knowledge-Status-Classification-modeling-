{
 "cells": [
  {
   "cell_type": "code",
   "execution_count": 1,
   "id": "50b080fb-becb-42e7-a49f-9f2666576bf9",
   "metadata": {
    "tags": []
   },
   "outputs": [
    {
     "name": "stderr",
     "output_type": "stream",
     "text": [
      "── \u001b[1mAttaching packages\u001b[22m ─────────────────────────────────────── tidyverse 1.3.2 ──\n",
      "\u001b[32m✔\u001b[39m \u001b[34mggplot2\u001b[39m 3.4.2     \u001b[32m✔\u001b[39m \u001b[34mpurrr  \u001b[39m 1.0.1\n",
      "\u001b[32m✔\u001b[39m \u001b[34mtibble \u001b[39m 3.2.1     \u001b[32m✔\u001b[39m \u001b[34mdplyr  \u001b[39m 1.1.1\n",
      "\u001b[32m✔\u001b[39m \u001b[34mtidyr  \u001b[39m 1.3.0     \u001b[32m✔\u001b[39m \u001b[34mstringr\u001b[39m 1.5.0\n",
      "\u001b[32m✔\u001b[39m \u001b[34mreadr  \u001b[39m 2.1.3     \u001b[32m✔\u001b[39m \u001b[34mforcats\u001b[39m 0.5.2\n",
      "── \u001b[1mConflicts\u001b[22m ────────────────────────────────────────── tidyverse_conflicts() ──\n",
      "\u001b[31m✖\u001b[39m \u001b[34mdplyr\u001b[39m::\u001b[32mfilter()\u001b[39m masks \u001b[34mstats\u001b[39m::filter()\n",
      "\u001b[31m✖\u001b[39m \u001b[34mdplyr\u001b[39m::\u001b[32mlag()\u001b[39m    masks \u001b[34mstats\u001b[39m::lag()\n",
      "── \u001b[1mAttaching packages\u001b[22m ────────────────────────────────────── tidymodels 1.0.0 ──\n",
      "\n",
      "\u001b[32m✔\u001b[39m \u001b[34mbroom       \u001b[39m 1.0.2     \u001b[32m✔\u001b[39m \u001b[34mrsample     \u001b[39m 1.1.1\n",
      "\u001b[32m✔\u001b[39m \u001b[34mdials       \u001b[39m 1.1.0     \u001b[32m✔\u001b[39m \u001b[34mtune        \u001b[39m 1.0.1\n",
      "\u001b[32m✔\u001b[39m \u001b[34minfer       \u001b[39m 1.0.4     \u001b[32m✔\u001b[39m \u001b[34mworkflows   \u001b[39m 1.1.2\n",
      "\u001b[32m✔\u001b[39m \u001b[34mmodeldata   \u001b[39m 1.0.1     \u001b[32m✔\u001b[39m \u001b[34mworkflowsets\u001b[39m 1.0.0\n",
      "\u001b[32m✔\u001b[39m \u001b[34mparsnip     \u001b[39m 1.0.3     \u001b[32m✔\u001b[39m \u001b[34myardstick   \u001b[39m 1.1.0\n",
      "\u001b[32m✔\u001b[39m \u001b[34mrecipes     \u001b[39m 1.0.4     \n",
      "\n",
      "── \u001b[1mConflicts\u001b[22m ───────────────────────────────────────── tidymodels_conflicts() ──\n",
      "\u001b[31m✖\u001b[39m \u001b[34mscales\u001b[39m::\u001b[32mdiscard()\u001b[39m masks \u001b[34mpurrr\u001b[39m::discard()\n",
      "\u001b[31m✖\u001b[39m \u001b[34mdplyr\u001b[39m::\u001b[32mfilter()\u001b[39m   masks \u001b[34mstats\u001b[39m::filter()\n",
      "\u001b[31m✖\u001b[39m \u001b[34mrecipes\u001b[39m::\u001b[32mfixed()\u001b[39m  masks \u001b[34mstringr\u001b[39m::fixed()\n",
      "\u001b[31m✖\u001b[39m \u001b[34mdplyr\u001b[39m::\u001b[32mlag()\u001b[39m      masks \u001b[34mstats\u001b[39m::lag()\n",
      "\u001b[31m✖\u001b[39m \u001b[34myardstick\u001b[39m::\u001b[32mspec()\u001b[39m masks \u001b[34mreadr\u001b[39m::spec()\n",
      "\u001b[31m✖\u001b[39m \u001b[34mrecipes\u001b[39m::\u001b[32mstep()\u001b[39m   masks \u001b[34mstats\u001b[39m::step()\n",
      "\u001b[34m•\u001b[39m Dig deeper into tidy modeling with R at \u001b[32mhttps://www.tmwr.org\u001b[39m\n",
      "\n"
     ]
    }
   ],
   "source": [
    "library(tidyverse)\n",
    "library(repr)\n",
    "library(tidymodels)\n",
    "options(repr.matrix.max.rows = 6)\n"
   ]
  },
  {
   "cell_type": "code",
   "execution_count": 2,
   "id": "d2b4c094-af92-4c5e-99a4-d84b96c0d831",
   "metadata": {
    "tags": []
   },
   "outputs": [
    {
     "name": "stderr",
     "output_type": "stream",
     "text": [
      "\u001b[1mRows: \u001b[22m\u001b[34m255347\u001b[39m \u001b[1mColumns: \u001b[22m\u001b[34m18\u001b[39m\n",
      "\u001b[36m──\u001b[39m \u001b[1mColumn specification\u001b[22m \u001b[36m────────────────────────────────────────────────────────\u001b[39m\n",
      "\u001b[1mDelimiter:\u001b[22m \",\"\n",
      "\u001b[31mchr\u001b[39m  (8): LoanID, Education, EmploymentType, MaritalStatus, HasMortgage, Has...\n",
      "\u001b[32mdbl\u001b[39m (10): Age, Income, LoanAmount, CreditScore, MonthsEmployed, NumCreditLin...\n",
      "\n",
      "\u001b[36mℹ\u001b[39m Use `spec()` to retrieve the full column specification for this data.\n",
      "\u001b[36mℹ\u001b[39m Specify the column types or set `show_col_types = FALSE` to quiet this message.\n"
     ]
    },
    {
     "data": {
      "text/html": [
       "<table class=\"dataframe\">\n",
       "<caption>A spec_tbl_df: 255347 × 18</caption>\n",
       "<thead>\n",
       "\t<tr><th scope=col>LoanID</th><th scope=col>Age</th><th scope=col>Income</th><th scope=col>LoanAmount</th><th scope=col>CreditScore</th><th scope=col>MonthsEmployed</th><th scope=col>NumCreditLines</th><th scope=col>InterestRate</th><th scope=col>LoanTerm</th><th scope=col>DTIRatio</th><th scope=col>Education</th><th scope=col>EmploymentType</th><th scope=col>MaritalStatus</th><th scope=col>HasMortgage</th><th scope=col>HasDependents</th><th scope=col>LoanPurpose</th><th scope=col>HasCoSigner</th><th scope=col>Default</th></tr>\n",
       "\t<tr><th scope=col>&lt;chr&gt;</th><th scope=col>&lt;dbl&gt;</th><th scope=col>&lt;dbl&gt;</th><th scope=col>&lt;dbl&gt;</th><th scope=col>&lt;dbl&gt;</th><th scope=col>&lt;dbl&gt;</th><th scope=col>&lt;dbl&gt;</th><th scope=col>&lt;dbl&gt;</th><th scope=col>&lt;dbl&gt;</th><th scope=col>&lt;dbl&gt;</th><th scope=col>&lt;chr&gt;</th><th scope=col>&lt;chr&gt;</th><th scope=col>&lt;chr&gt;</th><th scope=col>&lt;chr&gt;</th><th scope=col>&lt;chr&gt;</th><th scope=col>&lt;chr&gt;</th><th scope=col>&lt;chr&gt;</th><th scope=col>&lt;dbl&gt;</th></tr>\n",
       "</thead>\n",
       "<tbody>\n",
       "\t<tr><td>I38PQUQS96</td><td>56</td><td>85994</td><td> 50587</td><td>520</td><td>80</td><td>4</td><td>15.23</td><td>36</td><td>0.44</td><td>Bachelor's</td><td>Full-time </td><td>Divorced</td><td>Yes</td><td>Yes</td><td>Other</td><td>Yes</td><td>0</td></tr>\n",
       "\t<tr><td>HPSK72WA7R</td><td>69</td><td>50432</td><td>124440</td><td>458</td><td>15</td><td>1</td><td> 4.81</td><td>60</td><td>0.68</td><td>Master's  </td><td>Full-time </td><td>Married </td><td>No </td><td>No </td><td>Other</td><td>Yes</td><td>0</td></tr>\n",
       "\t<tr><td>C1OZ6DPJ8Y</td><td>46</td><td>84208</td><td>129188</td><td>451</td><td>26</td><td>3</td><td>21.17</td><td>24</td><td>0.31</td><td>Master's  </td><td>Unemployed</td><td>Divorced</td><td>Yes</td><td>Yes</td><td>Auto </td><td>No </td><td>1</td></tr>\n",
       "\t<tr><td>⋮</td><td>⋮</td><td>⋮</td><td>⋮</td><td>⋮</td><td>⋮</td><td>⋮</td><td>⋮</td><td>⋮</td><td>⋮</td><td>⋮</td><td>⋮</td><td>⋮</td><td>⋮</td><td>⋮</td><td>⋮</td><td>⋮</td><td>⋮</td></tr>\n",
       "\t<tr><td>XQK1UUUNGP</td><td>56</td><td>84820</td><td>208294</td><td>597</td><td> 70</td><td>3</td><td> 5.29</td><td>60</td><td>0.50</td><td>High School</td><td>Self-employed</td><td>Married </td><td>Yes</td><td>Yes</td><td>Auto     </td><td>Yes</td><td>0</td></tr>\n",
       "\t<tr><td>JAO28CPL4H</td><td>42</td><td>85109</td><td> 60575</td><td>809</td><td> 40</td><td>1</td><td>20.90</td><td>48</td><td>0.44</td><td>High School</td><td>Part-time    </td><td>Single  </td><td>Yes</td><td>Yes</td><td>Other    </td><td>No </td><td>0</td></tr>\n",
       "\t<tr><td>ZTH91CGL0B</td><td>62</td><td>22418</td><td> 18481</td><td>636</td><td>113</td><td>2</td><td> 6.73</td><td>12</td><td>0.48</td><td>Bachelor's </td><td>Unemployed   </td><td>Divorced</td><td>Yes</td><td>No </td><td>Education</td><td>Yes</td><td>0</td></tr>\n",
       "</tbody>\n",
       "</table>\n"
      ],
      "text/latex": [
       "A spec\\_tbl\\_df: 255347 × 18\n",
       "\\begin{tabular}{llllllllllllllllll}\n",
       " LoanID & Age & Income & LoanAmount & CreditScore & MonthsEmployed & NumCreditLines & InterestRate & LoanTerm & DTIRatio & Education & EmploymentType & MaritalStatus & HasMortgage & HasDependents & LoanPurpose & HasCoSigner & Default\\\\\n",
       " <chr> & <dbl> & <dbl> & <dbl> & <dbl> & <dbl> & <dbl> & <dbl> & <dbl> & <dbl> & <chr> & <chr> & <chr> & <chr> & <chr> & <chr> & <chr> & <dbl>\\\\\n",
       "\\hline\n",
       "\t I38PQUQS96 & 56 & 85994 &  50587 & 520 & 80 & 4 & 15.23 & 36 & 0.44 & Bachelor's & Full-time  & Divorced & Yes & Yes & Other & Yes & 0\\\\\n",
       "\t HPSK72WA7R & 69 & 50432 & 124440 & 458 & 15 & 1 &  4.81 & 60 & 0.68 & Master's   & Full-time  & Married  & No  & No  & Other & Yes & 0\\\\\n",
       "\t C1OZ6DPJ8Y & 46 & 84208 & 129188 & 451 & 26 & 3 & 21.17 & 24 & 0.31 & Master's   & Unemployed & Divorced & Yes & Yes & Auto  & No  & 1\\\\\n",
       "\t ⋮ & ⋮ & ⋮ & ⋮ & ⋮ & ⋮ & ⋮ & ⋮ & ⋮ & ⋮ & ⋮ & ⋮ & ⋮ & ⋮ & ⋮ & ⋮ & ⋮ & ⋮\\\\\n",
       "\t XQK1UUUNGP & 56 & 84820 & 208294 & 597 &  70 & 3 &  5.29 & 60 & 0.50 & High School & Self-employed & Married  & Yes & Yes & Auto      & Yes & 0\\\\\n",
       "\t JAO28CPL4H & 42 & 85109 &  60575 & 809 &  40 & 1 & 20.90 & 48 & 0.44 & High School & Part-time     & Single   & Yes & Yes & Other     & No  & 0\\\\\n",
       "\t ZTH91CGL0B & 62 & 22418 &  18481 & 636 & 113 & 2 &  6.73 & 12 & 0.48 & Bachelor's  & Unemployed    & Divorced & Yes & No  & Education & Yes & 0\\\\\n",
       "\\end{tabular}\n"
      ],
      "text/markdown": [
       "\n",
       "A spec_tbl_df: 255347 × 18\n",
       "\n",
       "| LoanID &lt;chr&gt; | Age &lt;dbl&gt; | Income &lt;dbl&gt; | LoanAmount &lt;dbl&gt; | CreditScore &lt;dbl&gt; | MonthsEmployed &lt;dbl&gt; | NumCreditLines &lt;dbl&gt; | InterestRate &lt;dbl&gt; | LoanTerm &lt;dbl&gt; | DTIRatio &lt;dbl&gt; | Education &lt;chr&gt; | EmploymentType &lt;chr&gt; | MaritalStatus &lt;chr&gt; | HasMortgage &lt;chr&gt; | HasDependents &lt;chr&gt; | LoanPurpose &lt;chr&gt; | HasCoSigner &lt;chr&gt; | Default &lt;dbl&gt; |\n",
       "|---|---|---|---|---|---|---|---|---|---|---|---|---|---|---|---|---|---|\n",
       "| I38PQUQS96 | 56 | 85994 |  50587 | 520 | 80 | 4 | 15.23 | 36 | 0.44 | Bachelor's | Full-time  | Divorced | Yes | Yes | Other | Yes | 0 |\n",
       "| HPSK72WA7R | 69 | 50432 | 124440 | 458 | 15 | 1 |  4.81 | 60 | 0.68 | Master's   | Full-time  | Married  | No  | No  | Other | Yes | 0 |\n",
       "| C1OZ6DPJ8Y | 46 | 84208 | 129188 | 451 | 26 | 3 | 21.17 | 24 | 0.31 | Master's   | Unemployed | Divorced | Yes | Yes | Auto  | No  | 1 |\n",
       "| ⋮ | ⋮ | ⋮ | ⋮ | ⋮ | ⋮ | ⋮ | ⋮ | ⋮ | ⋮ | ⋮ | ⋮ | ⋮ | ⋮ | ⋮ | ⋮ | ⋮ | ⋮ |\n",
       "| XQK1UUUNGP | 56 | 84820 | 208294 | 597 |  70 | 3 |  5.29 | 60 | 0.50 | High School | Self-employed | Married  | Yes | Yes | Auto      | Yes | 0 |\n",
       "| JAO28CPL4H | 42 | 85109 |  60575 | 809 |  40 | 1 | 20.90 | 48 | 0.44 | High School | Part-time     | Single   | Yes | Yes | Other     | No  | 0 |\n",
       "| ZTH91CGL0B | 62 | 22418 |  18481 | 636 | 113 | 2 |  6.73 | 12 | 0.48 | Bachelor's  | Unemployed    | Divorced | Yes | No  | Education | Yes | 0 |\n",
       "\n"
      ],
      "text/plain": [
       "       LoanID     Age Income LoanAmount CreditScore MonthsEmployed\n",
       "1      I38PQUQS96 56  85994   50587     520         80            \n",
       "2      HPSK72WA7R 69  50432  124440     458         15            \n",
       "3      C1OZ6DPJ8Y 46  84208  129188     451         26            \n",
       "⋮      ⋮          ⋮   ⋮      ⋮          ⋮           ⋮             \n",
       "255345 XQK1UUUNGP 56  84820  208294     597          70           \n",
       "255346 JAO28CPL4H 42  85109   60575     809          40           \n",
       "255347 ZTH91CGL0B 62  22418   18481     636         113           \n",
       "       NumCreditLines InterestRate LoanTerm DTIRatio Education   EmploymentType\n",
       "1      4              15.23        36       0.44     Bachelor's  Full-time     \n",
       "2      1               4.81        60       0.68     Master's    Full-time     \n",
       "3      3              21.17        24       0.31     Master's    Unemployed    \n",
       "⋮      ⋮              ⋮            ⋮        ⋮        ⋮           ⋮             \n",
       "255345 3               5.29        60       0.50     High School Self-employed \n",
       "255346 1              20.90        48       0.44     High School Part-time     \n",
       "255347 2               6.73        12       0.48     Bachelor's  Unemployed    \n",
       "       MaritalStatus HasMortgage HasDependents LoanPurpose HasCoSigner Default\n",
       "1      Divorced      Yes         Yes           Other       Yes         0      \n",
       "2      Married       No          No            Other       Yes         0      \n",
       "3      Divorced      Yes         Yes           Auto        No          1      \n",
       "⋮      ⋮             ⋮           ⋮             ⋮           ⋮           ⋮      \n",
       "255345 Married       Yes         Yes           Auto        Yes         0      \n",
       "255346 Single        Yes         Yes           Other       No          0      \n",
       "255347 Divorced      Yes         No            Education   Yes         0      "
      ]
     },
     "metadata": {},
     "output_type": "display_data"
    }
   ],
   "source": [
    "url <-\"https://github.com/JackyLinllk/ubc_dsci100_assignment/raw/main/loan_default.csv\"\n",
    "loan_data <-read_csv(url) \n",
    " \n",
    "loan_data\n"
   ]
  },
  {
   "cell_type": "code",
   "execution_count": 3,
   "id": "d594f99a-faa8-43d9-80cb-3d8e1397c87c",
   "metadata": {
    "tags": []
   },
   "outputs": [
    {
     "data": {
      "text/html": [
       "<table class=\"dataframe\">\n",
       "<caption>A tibble: 191509 × 18</caption>\n",
       "<thead>\n",
       "\t<tr><th scope=col>LoanID</th><th scope=col>Age</th><th scope=col>Income</th><th scope=col>LoanAmount</th><th scope=col>CreditScore</th><th scope=col>MonthsEmployed</th><th scope=col>NumCreditLines</th><th scope=col>InterestRate</th><th scope=col>LoanTerm</th><th scope=col>DTIRatio</th><th scope=col>Education</th><th scope=col>EmploymentType</th><th scope=col>MaritalStatus</th><th scope=col>HasMortgage</th><th scope=col>HasDependents</th><th scope=col>LoanPurpose</th><th scope=col>HasCoSigner</th><th scope=col>Default</th></tr>\n",
       "\t<tr><th scope=col>&lt;chr&gt;</th><th scope=col>&lt;dbl&gt;</th><th scope=col>&lt;dbl&gt;</th><th scope=col>&lt;dbl&gt;</th><th scope=col>&lt;dbl&gt;</th><th scope=col>&lt;dbl&gt;</th><th scope=col>&lt;dbl&gt;</th><th scope=col>&lt;dbl&gt;</th><th scope=col>&lt;dbl&gt;</th><th scope=col>&lt;dbl&gt;</th><th scope=col>&lt;chr&gt;</th><th scope=col>&lt;chr&gt;</th><th scope=col>&lt;chr&gt;</th><th scope=col>&lt;chr&gt;</th><th scope=col>&lt;chr&gt;</th><th scope=col>&lt;chr&gt;</th><th scope=col>&lt;chr&gt;</th><th scope=col>&lt;dbl&gt;</th></tr>\n",
       "</thead>\n",
       "<tbody>\n",
       "\t<tr><td>I38PQUQS96</td><td>56</td><td>85994</td><td> 50587</td><td>520</td><td>80</td><td>4</td><td>15.23</td><td>36</td><td>0.44</td><td>Bachelor's </td><td>Full-time</td><td>Divorced</td><td>Yes</td><td>Yes</td><td>Other   </td><td>Yes</td><td>0</td></tr>\n",
       "\t<tr><td>HPSK72WA7R</td><td>69</td><td>50432</td><td>124440</td><td>458</td><td>15</td><td>1</td><td> 4.81</td><td>60</td><td>0.68</td><td>Master's   </td><td>Full-time</td><td>Married </td><td>No </td><td>No </td><td>Other   </td><td>Yes</td><td>0</td></tr>\n",
       "\t<tr><td>V2KKSFM3UN</td><td>32</td><td>31713</td><td> 44799</td><td>743</td><td> 0</td><td>3</td><td> 7.07</td><td>24</td><td>0.23</td><td>High School</td><td>Full-time</td><td>Married </td><td>No </td><td>No </td><td>Business</td><td>No </td><td>0</td></tr>\n",
       "\t<tr><td>⋮</td><td>⋮</td><td>⋮</td><td>⋮</td><td>⋮</td><td>⋮</td><td>⋮</td><td>⋮</td><td>⋮</td><td>⋮</td><td>⋮</td><td>⋮</td><td>⋮</td><td>⋮</td><td>⋮</td><td>⋮</td><td>⋮</td><td>⋮</td></tr>\n",
       "\t<tr><td>F40NYFL3QR</td><td>65</td><td>111206</td><td>112192</td><td>315</td><td> 3</td><td>3</td><td>20.17</td><td>36</td><td>0.63</td><td>High School</td><td>Unemployed</td><td>Married </td><td>Yes</td><td>Yes</td><td>Auto     </td><td>No </td><td>1</td></tr>\n",
       "\t<tr><td>BM4B25R7EI</td><td>22</td><td> 45575</td><td> 43355</td><td>545</td><td>99</td><td>1</td><td>21.86</td><td>12</td><td>0.52</td><td>PhD        </td><td>Unemployed</td><td>Married </td><td>Yes</td><td>Yes</td><td>Education</td><td>No </td><td>1</td></tr>\n",
       "\t<tr><td>AKXAXQN7PG</td><td>40</td><td>129890</td><td>116119</td><td>701</td><td>38</td><td>3</td><td> 9.91</td><td>24</td><td>0.23</td><td>High School</td><td>Part-time </td><td>Divorced</td><td>Yes</td><td>No </td><td>Home     </td><td>Yes</td><td>1</td></tr>\n",
       "</tbody>\n",
       "</table>\n"
      ],
      "text/latex": [
       "A tibble: 191509 × 18\n",
       "\\begin{tabular}{llllllllllllllllll}\n",
       " LoanID & Age & Income & LoanAmount & CreditScore & MonthsEmployed & NumCreditLines & InterestRate & LoanTerm & DTIRatio & Education & EmploymentType & MaritalStatus & HasMortgage & HasDependents & LoanPurpose & HasCoSigner & Default\\\\\n",
       " <chr> & <dbl> & <dbl> & <dbl> & <dbl> & <dbl> & <dbl> & <dbl> & <dbl> & <dbl> & <chr> & <chr> & <chr> & <chr> & <chr> & <chr> & <chr> & <dbl>\\\\\n",
       "\\hline\n",
       "\t I38PQUQS96 & 56 & 85994 &  50587 & 520 & 80 & 4 & 15.23 & 36 & 0.44 & Bachelor's  & Full-time & Divorced & Yes & Yes & Other    & Yes & 0\\\\\n",
       "\t HPSK72WA7R & 69 & 50432 & 124440 & 458 & 15 & 1 &  4.81 & 60 & 0.68 & Master's    & Full-time & Married  & No  & No  & Other    & Yes & 0\\\\\n",
       "\t V2KKSFM3UN & 32 & 31713 &  44799 & 743 &  0 & 3 &  7.07 & 24 & 0.23 & High School & Full-time & Married  & No  & No  & Business & No  & 0\\\\\n",
       "\t ⋮ & ⋮ & ⋮ & ⋮ & ⋮ & ⋮ & ⋮ & ⋮ & ⋮ & ⋮ & ⋮ & ⋮ & ⋮ & ⋮ & ⋮ & ⋮ & ⋮ & ⋮\\\\\n",
       "\t F40NYFL3QR & 65 & 111206 & 112192 & 315 &  3 & 3 & 20.17 & 36 & 0.63 & High School & Unemployed & Married  & Yes & Yes & Auto      & No  & 1\\\\\n",
       "\t BM4B25R7EI & 22 &  45575 &  43355 & 545 & 99 & 1 & 21.86 & 12 & 0.52 & PhD         & Unemployed & Married  & Yes & Yes & Education & No  & 1\\\\\n",
       "\t AKXAXQN7PG & 40 & 129890 & 116119 & 701 & 38 & 3 &  9.91 & 24 & 0.23 & High School & Part-time  & Divorced & Yes & No  & Home      & Yes & 1\\\\\n",
       "\\end{tabular}\n"
      ],
      "text/markdown": [
       "\n",
       "A tibble: 191509 × 18\n",
       "\n",
       "| LoanID &lt;chr&gt; | Age &lt;dbl&gt; | Income &lt;dbl&gt; | LoanAmount &lt;dbl&gt; | CreditScore &lt;dbl&gt; | MonthsEmployed &lt;dbl&gt; | NumCreditLines &lt;dbl&gt; | InterestRate &lt;dbl&gt; | LoanTerm &lt;dbl&gt; | DTIRatio &lt;dbl&gt; | Education &lt;chr&gt; | EmploymentType &lt;chr&gt; | MaritalStatus &lt;chr&gt; | HasMortgage &lt;chr&gt; | HasDependents &lt;chr&gt; | LoanPurpose &lt;chr&gt; | HasCoSigner &lt;chr&gt; | Default &lt;dbl&gt; |\n",
       "|---|---|---|---|---|---|---|---|---|---|---|---|---|---|---|---|---|---|\n",
       "| I38PQUQS96 | 56 | 85994 |  50587 | 520 | 80 | 4 | 15.23 | 36 | 0.44 | Bachelor's  | Full-time | Divorced | Yes | Yes | Other    | Yes | 0 |\n",
       "| HPSK72WA7R | 69 | 50432 | 124440 | 458 | 15 | 1 |  4.81 | 60 | 0.68 | Master's    | Full-time | Married  | No  | No  | Other    | Yes | 0 |\n",
       "| V2KKSFM3UN | 32 | 31713 |  44799 | 743 |  0 | 3 |  7.07 | 24 | 0.23 | High School | Full-time | Married  | No  | No  | Business | No  | 0 |\n",
       "| ⋮ | ⋮ | ⋮ | ⋮ | ⋮ | ⋮ | ⋮ | ⋮ | ⋮ | ⋮ | ⋮ | ⋮ | ⋮ | ⋮ | ⋮ | ⋮ | ⋮ | ⋮ |\n",
       "| F40NYFL3QR | 65 | 111206 | 112192 | 315 |  3 | 3 | 20.17 | 36 | 0.63 | High School | Unemployed | Married  | Yes | Yes | Auto      | No  | 1 |\n",
       "| BM4B25R7EI | 22 |  45575 |  43355 | 545 | 99 | 1 | 21.86 | 12 | 0.52 | PhD         | Unemployed | Married  | Yes | Yes | Education | No  | 1 |\n",
       "| AKXAXQN7PG | 40 | 129890 | 116119 | 701 | 38 | 3 |  9.91 | 24 | 0.23 | High School | Part-time  | Divorced | Yes | No  | Home      | Yes | 1 |\n",
       "\n"
      ],
      "text/plain": [
       "       LoanID     Age Income LoanAmount CreditScore MonthsEmployed\n",
       "1      I38PQUQS96 56  85994   50587     520         80            \n",
       "2      HPSK72WA7R 69  50432  124440     458         15            \n",
       "3      V2KKSFM3UN 32  31713   44799     743          0            \n",
       "⋮      ⋮          ⋮   ⋮      ⋮          ⋮           ⋮             \n",
       "191507 F40NYFL3QR 65  111206 112192     315          3            \n",
       "191508 BM4B25R7EI 22   45575  43355     545         99            \n",
       "191509 AKXAXQN7PG 40  129890 116119     701         38            \n",
       "       NumCreditLines InterestRate LoanTerm DTIRatio Education   EmploymentType\n",
       "1      4              15.23        36       0.44     Bachelor's  Full-time     \n",
       "2      1               4.81        60       0.68     Master's    Full-time     \n",
       "3      3               7.07        24       0.23     High School Full-time     \n",
       "⋮      ⋮              ⋮            ⋮        ⋮        ⋮           ⋮             \n",
       "191507 3              20.17        36       0.63     High School Unemployed    \n",
       "191508 1              21.86        12       0.52     PhD         Unemployed    \n",
       "191509 3               9.91        24       0.23     High School Part-time     \n",
       "       MaritalStatus HasMortgage HasDependents LoanPurpose HasCoSigner Default\n",
       "1      Divorced      Yes         Yes           Other       Yes         0      \n",
       "2      Married       No          No            Other       Yes         0      \n",
       "3      Married       No          No            Business    No          0      \n",
       "⋮      ⋮             ⋮           ⋮             ⋮           ⋮           ⋮      \n",
       "191507 Married       Yes         Yes           Auto        No          1      \n",
       "191508 Married       Yes         Yes           Education   No          1      \n",
       "191509 Divorced      Yes         No            Home        Yes         1      "
      ]
     },
     "metadata": {},
     "output_type": "display_data"
    }
   ],
   "source": [
    "loan_split <- initial_split(loan_data, prop = 0.75, strata = Default)  \n",
    "loan_train <- training(loan_split)\n",
    "loan_test <- testing(loan_split)\n",
    "\n",
    "loan_train\n",
    "#loan_recipe <- recipe(Default ~ Age + Income + LoanAmount + CreditScore + MonthsEmployed, data= loan_train)|>\n",
    "#    step_scale(all_predictors())|>\n",
    "#    step_center(all_predictors()) \n",
    "\n",
    "#loan_recipe_scaled <- "
   ]
  },
  {
   "cell_type": "code",
   "execution_count": 4,
   "id": "16e604be-dc5a-4abd-bdff-588621ff744c",
   "metadata": {
    "tags": []
   },
   "outputs": [
    {
     "ename": "ERROR",
     "evalue": "Error in ggplot(loan_train_sliced, aes(x = CreditScore, y = LoanAmount, : object 'loan_train_sliced' not found\n",
     "output_type": "error",
     "traceback": [
      "Error in ggplot(loan_train_sliced, aes(x = CreditScore, y = LoanAmount, : object 'loan_train_sliced' not found\nTraceback:\n",
      "1. ggplot(loan_train_sliced, aes(x = CreditScore, y = LoanAmount, \n .     color = Defaulted))"
     ]
    }
   ],
   "source": [
    "\n",
    "\n",
    "\n",
    "loan_train_graph <- ggplot(loan_train_sliced, aes(x= CreditScore, y= LoanAmount, color = Defaulted))+\n",
    "    geom_point()+\n",
    "    labs(x=\"CreditScore\" , y=\"LoanAmount\", Color = \"Defaulted\")\n"
   ]
  },
  {
   "cell_type": "code",
   "execution_count": null,
   "id": "7780a641-6a61-4b13-8405-1b4c5f1396fc",
   "metadata": {},
   "outputs": [],
   "source": []
  }
 ],
 "metadata": {
  "kernelspec": {
   "display_name": "R",
   "language": "R",
   "name": "ir"
  },
  "language_info": {
   "codemirror_mode": "r",
   "file_extension": ".r",
   "mimetype": "text/x-r-source",
   "name": "R",
   "pygments_lexer": "r",
   "version": "4.2.2"
  }
 },
 "nbformat": 4,
 "nbformat_minor": 5
}
