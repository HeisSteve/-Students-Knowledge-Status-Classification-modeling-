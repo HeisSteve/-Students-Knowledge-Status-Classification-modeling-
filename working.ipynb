{
 "cells": [
  {
   "cell_type": "code",
   "execution_count": 1,
   "id": "50b080fb-becb-42e7-a49f-9f2666576bf9",
   "metadata": {
    "tags": []
   },
   "outputs": [
    {
     "name": "stderr",
     "output_type": "stream",
     "text": [
      "── \u001b[1mAttaching packages\u001b[22m ─────────────────────────────────────── tidyverse 1.3.2 ──\n",
      "\u001b[32m✔\u001b[39m \u001b[34mggplot2\u001b[39m 3.4.2     \u001b[32m✔\u001b[39m \u001b[34mpurrr  \u001b[39m 1.0.1\n",
      "\u001b[32m✔\u001b[39m \u001b[34mtibble \u001b[39m 3.2.1     \u001b[32m✔\u001b[39m \u001b[34mdplyr  \u001b[39m 1.1.1\n",
      "\u001b[32m✔\u001b[39m \u001b[34mtidyr  \u001b[39m 1.3.0     \u001b[32m✔\u001b[39m \u001b[34mstringr\u001b[39m 1.5.0\n",
      "\u001b[32m✔\u001b[39m \u001b[34mreadr  \u001b[39m 2.1.3     \u001b[32m✔\u001b[39m \u001b[34mforcats\u001b[39m 0.5.2\n",
      "── \u001b[1mConflicts\u001b[22m ────────────────────────────────────────── tidyverse_conflicts() ──\n",
      "\u001b[31m✖\u001b[39m \u001b[34mdplyr\u001b[39m::\u001b[32mfilter()\u001b[39m masks \u001b[34mstats\u001b[39m::filter()\n",
      "\u001b[31m✖\u001b[39m \u001b[34mdplyr\u001b[39m::\u001b[32mlag()\u001b[39m    masks \u001b[34mstats\u001b[39m::lag()\n",
      "── \u001b[1mAttaching packages\u001b[22m ────────────────────────────────────── tidymodels 1.0.0 ──\n",
      "\n",
      "\u001b[32m✔\u001b[39m \u001b[34mbroom       \u001b[39m 1.0.2     \u001b[32m✔\u001b[39m \u001b[34mrsample     \u001b[39m 1.1.1\n",
      "\u001b[32m✔\u001b[39m \u001b[34mdials       \u001b[39m 1.1.0     \u001b[32m✔\u001b[39m \u001b[34mtune        \u001b[39m 1.0.1\n",
      "\u001b[32m✔\u001b[39m \u001b[34minfer       \u001b[39m 1.0.4     \u001b[32m✔\u001b[39m \u001b[34mworkflows   \u001b[39m 1.1.2\n",
      "\u001b[32m✔\u001b[39m \u001b[34mmodeldata   \u001b[39m 1.0.1     \u001b[32m✔\u001b[39m \u001b[34mworkflowsets\u001b[39m 1.0.0\n",
      "\u001b[32m✔\u001b[39m \u001b[34mparsnip     \u001b[39m 1.0.3     \u001b[32m✔\u001b[39m \u001b[34myardstick   \u001b[39m 1.1.0\n",
      "\u001b[32m✔\u001b[39m \u001b[34mrecipes     \u001b[39m 1.0.4     \n",
      "\n",
      "── \u001b[1mConflicts\u001b[22m ───────────────────────────────────────── tidymodels_conflicts() ──\n",
      "\u001b[31m✖\u001b[39m \u001b[34mscales\u001b[39m::\u001b[32mdiscard()\u001b[39m masks \u001b[34mpurrr\u001b[39m::discard()\n",
      "\u001b[31m✖\u001b[39m \u001b[34mdplyr\u001b[39m::\u001b[32mfilter()\u001b[39m   masks \u001b[34mstats\u001b[39m::filter()\n",
      "\u001b[31m✖\u001b[39m \u001b[34mrecipes\u001b[39m::\u001b[32mfixed()\u001b[39m  masks \u001b[34mstringr\u001b[39m::fixed()\n",
      "\u001b[31m✖\u001b[39m \u001b[34mdplyr\u001b[39m::\u001b[32mlag()\u001b[39m      masks \u001b[34mstats\u001b[39m::lag()\n",
      "\u001b[31m✖\u001b[39m \u001b[34myardstick\u001b[39m::\u001b[32mspec()\u001b[39m masks \u001b[34mreadr\u001b[39m::spec()\n",
      "\u001b[31m✖\u001b[39m \u001b[34mrecipes\u001b[39m::\u001b[32mstep()\u001b[39m   masks \u001b[34mstats\u001b[39m::step()\n",
      "\u001b[34m•\u001b[39m Search for functions across packages at \u001b[32mhttps://www.tidymodels.org/find/\u001b[39m\n",
      "\n"
     ]
    }
   ],
   "source": [
    "library(tidyverse)\n",
    "library(repr)\n",
    "library(tidymodels)\n",
    "options(repr.matrix.max.rows = 6)\n"
   ]
  },
  {
   "cell_type": "code",
   "execution_count": 9,
   "id": "d2b4c094-af92-4c5e-99a4-d84b96c0d831",
   "metadata": {
    "tags": []
   },
   "outputs": [
    {
     "name": "stderr",
     "output_type": "stream",
     "text": [
      "\u001b[1mRows: \u001b[22m\u001b[34m255347\u001b[39m \u001b[1mColumns: \u001b[22m\u001b[34m18\u001b[39m\n",
      "\u001b[36m──\u001b[39m \u001b[1mColumn specification\u001b[22m \u001b[36m────────────────────────────────────────────────────────\u001b[39m\n",
      "\u001b[1mDelimiter:\u001b[22m \",\"\n",
      "\u001b[31mchr\u001b[39m  (8): LoanID, Education, EmploymentType, MaritalStatus, HasMortgage, Has...\n",
      "\u001b[32mdbl\u001b[39m (10): Age, Income, LoanAmount, CreditScore, MonthsEmployed, NumCreditLin...\n",
      "\n",
      "\u001b[36mℹ\u001b[39m Use `spec()` to retrieve the full column specification for this data.\n",
      "\u001b[36mℹ\u001b[39m Specify the column types or set `show_col_types = FALSE` to quiet this message.\n"
     ]
    }
   ],
   "source": [
    "loan_data <-read_csv(\"loan_default.csv\") |>\n",
    "    mutate(Default = as.factor(Default)) |>\n",
    "    mutate(Defaulted = fct_recode(Default, \"Yes\" = \"1\" , \"No\" = \"0\"))\n"
   ]
  },
  {
   "cell_type": "code",
   "execution_count": 10,
   "id": "d594f99a-faa8-43d9-80cb-3d8e1397c87c",
   "metadata": {
    "tags": []
   },
   "outputs": [
    {
     "data": {
      "text/html": [
       "<table class=\"dataframe\">\n",
       "<caption>A tibble: 191509 × 19</caption>\n",
       "<thead>\n",
       "\t<tr><th scope=col>LoanID</th><th scope=col>Age</th><th scope=col>Income</th><th scope=col>LoanAmount</th><th scope=col>CreditScore</th><th scope=col>MonthsEmployed</th><th scope=col>NumCreditLines</th><th scope=col>InterestRate</th><th scope=col>LoanTerm</th><th scope=col>DTIRatio</th><th scope=col>Education</th><th scope=col>EmploymentType</th><th scope=col>MaritalStatus</th><th scope=col>HasMortgage</th><th scope=col>HasDependents</th><th scope=col>LoanPurpose</th><th scope=col>HasCoSigner</th><th scope=col>Default</th><th scope=col>Defaulted</th></tr>\n",
       "\t<tr><th scope=col>&lt;chr&gt;</th><th scope=col>&lt;dbl&gt;</th><th scope=col>&lt;dbl&gt;</th><th scope=col>&lt;dbl&gt;</th><th scope=col>&lt;dbl&gt;</th><th scope=col>&lt;dbl&gt;</th><th scope=col>&lt;dbl&gt;</th><th scope=col>&lt;dbl&gt;</th><th scope=col>&lt;dbl&gt;</th><th scope=col>&lt;dbl&gt;</th><th scope=col>&lt;chr&gt;</th><th scope=col>&lt;chr&gt;</th><th scope=col>&lt;chr&gt;</th><th scope=col>&lt;chr&gt;</th><th scope=col>&lt;chr&gt;</th><th scope=col>&lt;chr&gt;</th><th scope=col>&lt;chr&gt;</th><th scope=col>&lt;fct&gt;</th><th scope=col>&lt;fct&gt;</th></tr>\n",
       "</thead>\n",
       "<tbody>\n",
       "\t<tr><td>I38PQUQS96</td><td>56</td><td> 85994</td><td> 50587</td><td>520</td><td>80</td><td>4</td><td>15.23</td><td>36</td><td>0.44</td><td>Bachelor's</td><td>Full-time</td><td>Divorced</td><td>Yes</td><td>Yes</td><td>Other</td><td>Yes</td><td>0</td><td>No</td></tr>\n",
       "\t<tr><td>HPSK72WA7R</td><td>69</td><td> 50432</td><td>124440</td><td>458</td><td>15</td><td>1</td><td> 4.81</td><td>60</td><td>0.68</td><td>Master's  </td><td>Full-time</td><td>Married </td><td>No </td><td>No </td><td>Other</td><td>Yes</td><td>0</td><td>No</td></tr>\n",
       "\t<tr><td>0HGZQKJ36W</td><td>56</td><td>126802</td><td>155511</td><td>531</td><td>67</td><td>4</td><td> 8.15</td><td>60</td><td>0.43</td><td>PhD       </td><td>Full-time</td><td>Married </td><td>No </td><td>No </td><td>Home </td><td>Yes</td><td>0</td><td>No</td></tr>\n",
       "\t<tr><td>⋮</td><td>⋮</td><td>⋮</td><td>⋮</td><td>⋮</td><td>⋮</td><td>⋮</td><td>⋮</td><td>⋮</td><td>⋮</td><td>⋮</td><td>⋮</td><td>⋮</td><td>⋮</td><td>⋮</td><td>⋮</td><td>⋮</td><td>⋮</td><td>⋮</td></tr>\n",
       "\t<tr><td>F40NYFL3QR</td><td>65</td><td>111206</td><td>112192</td><td>315</td><td> 3</td><td>3</td><td>20.17</td><td>36</td><td>0.63</td><td>High School</td><td>Unemployed</td><td>Married </td><td>Yes</td><td>Yes</td><td>Auto    </td><td>No</td><td>1</td><td>Yes</td></tr>\n",
       "\t<tr><td>Q8OXUYF0TI</td><td>50</td><td> 34641</td><td>108855</td><td>347</td><td>17</td><td>4</td><td>11.77</td><td>24</td><td>0.47</td><td>PhD        </td><td>Unemployed</td><td>Divorced</td><td>Yes</td><td>No </td><td>Business</td><td>No</td><td>1</td><td>Yes</td></tr>\n",
       "\t<tr><td>98R4KDHNND</td><td>32</td><td> 51953</td><td>189899</td><td>511</td><td>14</td><td>2</td><td>11.55</td><td>24</td><td>0.21</td><td>High School</td><td>Part-time </td><td>Divorced</td><td>No </td><td>No </td><td>Home    </td><td>No</td><td>1</td><td>Yes</td></tr>\n",
       "</tbody>\n",
       "</table>\n"
      ],
      "text/latex": [
       "A tibble: 191509 × 19\n",
       "\\begin{tabular}{lllllllllllllllllll}\n",
       " LoanID & Age & Income & LoanAmount & CreditScore & MonthsEmployed & NumCreditLines & InterestRate & LoanTerm & DTIRatio & Education & EmploymentType & MaritalStatus & HasMortgage & HasDependents & LoanPurpose & HasCoSigner & Default & Defaulted\\\\\n",
       " <chr> & <dbl> & <dbl> & <dbl> & <dbl> & <dbl> & <dbl> & <dbl> & <dbl> & <dbl> & <chr> & <chr> & <chr> & <chr> & <chr> & <chr> & <chr> & <fct> & <fct>\\\\\n",
       "\\hline\n",
       "\t I38PQUQS96 & 56 &  85994 &  50587 & 520 & 80 & 4 & 15.23 & 36 & 0.44 & Bachelor's & Full-time & Divorced & Yes & Yes & Other & Yes & 0 & No\\\\\n",
       "\t HPSK72WA7R & 69 &  50432 & 124440 & 458 & 15 & 1 &  4.81 & 60 & 0.68 & Master's   & Full-time & Married  & No  & No  & Other & Yes & 0 & No\\\\\n",
       "\t 0HGZQKJ36W & 56 & 126802 & 155511 & 531 & 67 & 4 &  8.15 & 60 & 0.43 & PhD        & Full-time & Married  & No  & No  & Home  & Yes & 0 & No\\\\\n",
       "\t ⋮ & ⋮ & ⋮ & ⋮ & ⋮ & ⋮ & ⋮ & ⋮ & ⋮ & ⋮ & ⋮ & ⋮ & ⋮ & ⋮ & ⋮ & ⋮ & ⋮ & ⋮ & ⋮\\\\\n",
       "\t F40NYFL3QR & 65 & 111206 & 112192 & 315 &  3 & 3 & 20.17 & 36 & 0.63 & High School & Unemployed & Married  & Yes & Yes & Auto     & No & 1 & Yes\\\\\n",
       "\t Q8OXUYF0TI & 50 &  34641 & 108855 & 347 & 17 & 4 & 11.77 & 24 & 0.47 & PhD         & Unemployed & Divorced & Yes & No  & Business & No & 1 & Yes\\\\\n",
       "\t 98R4KDHNND & 32 &  51953 & 189899 & 511 & 14 & 2 & 11.55 & 24 & 0.21 & High School & Part-time  & Divorced & No  & No  & Home     & No & 1 & Yes\\\\\n",
       "\\end{tabular}\n"
      ],
      "text/markdown": [
       "\n",
       "A tibble: 191509 × 19\n",
       "\n",
       "| LoanID &lt;chr&gt; | Age &lt;dbl&gt; | Income &lt;dbl&gt; | LoanAmount &lt;dbl&gt; | CreditScore &lt;dbl&gt; | MonthsEmployed &lt;dbl&gt; | NumCreditLines &lt;dbl&gt; | InterestRate &lt;dbl&gt; | LoanTerm &lt;dbl&gt; | DTIRatio &lt;dbl&gt; | Education &lt;chr&gt; | EmploymentType &lt;chr&gt; | MaritalStatus &lt;chr&gt; | HasMortgage &lt;chr&gt; | HasDependents &lt;chr&gt; | LoanPurpose &lt;chr&gt; | HasCoSigner &lt;chr&gt; | Default &lt;fct&gt; | Defaulted &lt;fct&gt; |\n",
       "|---|---|---|---|---|---|---|---|---|---|---|---|---|---|---|---|---|---|---|\n",
       "| I38PQUQS96 | 56 |  85994 |  50587 | 520 | 80 | 4 | 15.23 | 36 | 0.44 | Bachelor's | Full-time | Divorced | Yes | Yes | Other | Yes | 0 | No |\n",
       "| HPSK72WA7R | 69 |  50432 | 124440 | 458 | 15 | 1 |  4.81 | 60 | 0.68 | Master's   | Full-time | Married  | No  | No  | Other | Yes | 0 | No |\n",
       "| 0HGZQKJ36W | 56 | 126802 | 155511 | 531 | 67 | 4 |  8.15 | 60 | 0.43 | PhD        | Full-time | Married  | No  | No  | Home  | Yes | 0 | No |\n",
       "| ⋮ | ⋮ | ⋮ | ⋮ | ⋮ | ⋮ | ⋮ | ⋮ | ⋮ | ⋮ | ⋮ | ⋮ | ⋮ | ⋮ | ⋮ | ⋮ | ⋮ | ⋮ | ⋮ |\n",
       "| F40NYFL3QR | 65 | 111206 | 112192 | 315 |  3 | 3 | 20.17 | 36 | 0.63 | High School | Unemployed | Married  | Yes | Yes | Auto     | No | 1 | Yes |\n",
       "| Q8OXUYF0TI | 50 |  34641 | 108855 | 347 | 17 | 4 | 11.77 | 24 | 0.47 | PhD         | Unemployed | Divorced | Yes | No  | Business | No | 1 | Yes |\n",
       "| 98R4KDHNND | 32 |  51953 | 189899 | 511 | 14 | 2 | 11.55 | 24 | 0.21 | High School | Part-time  | Divorced | No  | No  | Home     | No | 1 | Yes |\n",
       "\n"
      ],
      "text/plain": [
       "       LoanID     Age Income LoanAmount CreditScore MonthsEmployed\n",
       "1      I38PQUQS96 56   85994  50587     520         80            \n",
       "2      HPSK72WA7R 69   50432 124440     458         15            \n",
       "3      0HGZQKJ36W 56  126802 155511     531         67            \n",
       "⋮      ⋮          ⋮   ⋮      ⋮          ⋮           ⋮             \n",
       "191507 F40NYFL3QR 65  111206 112192     315          3            \n",
       "191508 Q8OXUYF0TI 50   34641 108855     347         17            \n",
       "191509 98R4KDHNND 32   51953 189899     511         14            \n",
       "       NumCreditLines InterestRate LoanTerm DTIRatio Education   EmploymentType\n",
       "1      4              15.23        36       0.44     Bachelor's  Full-time     \n",
       "2      1               4.81        60       0.68     Master's    Full-time     \n",
       "3      4               8.15        60       0.43     PhD         Full-time     \n",
       "⋮      ⋮              ⋮            ⋮        ⋮        ⋮           ⋮             \n",
       "191507 3              20.17        36       0.63     High School Unemployed    \n",
       "191508 4              11.77        24       0.47     PhD         Unemployed    \n",
       "191509 2              11.55        24       0.21     High School Part-time     \n",
       "       MaritalStatus HasMortgage HasDependents LoanPurpose HasCoSigner Default\n",
       "1      Divorced      Yes         Yes           Other       Yes         0      \n",
       "2      Married       No          No            Other       Yes         0      \n",
       "3      Married       No          No            Home        Yes         0      \n",
       "⋮      ⋮             ⋮           ⋮             ⋮           ⋮           ⋮      \n",
       "191507 Married       Yes         Yes           Auto        No          1      \n",
       "191508 Divorced      Yes         No            Business    No          1      \n",
       "191509 Divorced      No          No            Home        No          1      \n",
       "       Defaulted\n",
       "1      No       \n",
       "2      No       \n",
       "3      No       \n",
       "⋮      ⋮        \n",
       "191507 Yes      \n",
       "191508 Yes      \n",
       "191509 Yes      "
      ]
     },
     "metadata": {},
     "output_type": "display_data"
    }
   ],
   "source": [
    "loan_split <- initial_split(loan_data, prop = 0.75, strata = Default)  \n",
    "loan_train <- training(loan_split)\n",
    "loan_test <- testing(loan_split)\n",
    "\n",
    "loan_train\n",
    "#loan_recipe <- recipe(Default ~ Age + Income + LoanAmount + CreditScore + MonthsEmployed, data= loan_train)|>\n",
    "#    step_scale(all_predictors())|>\n",
    "#    step_center(all_predictors()) \n",
    "\n",
    "#loan_recipe_scaled <- "
   ]
  },
  {
   "cell_type": "code",
   "execution_count": 8,
   "id": "16e604be-dc5a-4abd-bdff-588621ff744c",
   "metadata": {
    "tags": []
   },
   "outputs": [],
   "source": [
    "\n",
    "\n",
    "loan_train_graph <- ggplot(loan_train, aes(x= CreditScore, y= LoanAmount, color = Defaulted))+\n",
    "    geom_point()+\n",
    "    labs(x=\"CreditScore\" , y=\"LoanAmount\", Color = \"Defaulted\")\n"
   ]
  },
  {
   "cell_type": "code",
   "execution_count": null,
   "id": "7780a641-6a61-4b13-8405-1b4c5f1396fc",
   "metadata": {},
   "outputs": [],
   "source": []
  }
 ],
 "metadata": {
  "kernelspec": {
   "display_name": "R",
   "language": "R",
   "name": "ir"
  },
  "language_info": {
   "codemirror_mode": "r",
   "file_extension": ".r",
   "mimetype": "text/x-r-source",
   "name": "R",
   "pygments_lexer": "r",
   "version": "4.2.2"
  }
 },
 "nbformat": 4,
 "nbformat_minor": 5
}
