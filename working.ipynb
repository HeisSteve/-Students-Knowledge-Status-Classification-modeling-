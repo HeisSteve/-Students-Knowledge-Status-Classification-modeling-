{
 "cells": [
  {
   "cell_type": "code",
   "execution_count": 3,
   "id": "50b080fb-becb-42e7-a49f-9f2666576bf9",
   "metadata": {
    "tags": []
   },
   "outputs": [
    {
     "name": "stderr",
     "output_type": "stream",
     "text": [
      "\u001b[1mRows: \u001b[22m\u001b[34m255347\u001b[39m \u001b[1mColumns: \u001b[22m\u001b[34m18\u001b[39m\n",
      "\u001b[36m──\u001b[39m \u001b[1mColumn specification\u001b[22m \u001b[36m────────────────────────────────────────────────────────\u001b[39m\n",
      "\u001b[1mDelimiter:\u001b[22m \",\"\n",
      "\u001b[31mchr\u001b[39m  (8): LoanID, Education, EmploymentType, MaritalStatus, HasMortgage, Has...\n",
      "\u001b[32mdbl\u001b[39m (10): Age, Income, LoanAmount, CreditScore, MonthsEmployed, NumCreditLin...\n",
      "\n",
      "\u001b[36mℹ\u001b[39m Use `spec()` to retrieve the full column specification for this data.\n",
      "\u001b[36mℹ\u001b[39m Specify the column types or set `show_col_types = FALSE` to quiet this message.\n"
     ]
    },
    {
     "data": {
      "text/html": [
       "<table class=\"dataframe\">\n",
       "<caption>A tibble: 6 × 18</caption>\n",
       "<thead>\n",
       "\t<tr><th scope=col>LoanID</th><th scope=col>Age</th><th scope=col>Income</th><th scope=col>LoanAmount</th><th scope=col>CreditScore</th><th scope=col>MonthsEmployed</th><th scope=col>NumCreditLines</th><th scope=col>InterestRate</th><th scope=col>LoanTerm</th><th scope=col>DTIRatio</th><th scope=col>Education</th><th scope=col>EmploymentType</th><th scope=col>MaritalStatus</th><th scope=col>HasMortgage</th><th scope=col>HasDependents</th><th scope=col>LoanPurpose</th><th scope=col>HasCoSigner</th><th scope=col>Default</th></tr>\n",
       "\t<tr><th scope=col>&lt;chr&gt;</th><th scope=col>&lt;dbl&gt;</th><th scope=col>&lt;dbl&gt;</th><th scope=col>&lt;dbl&gt;</th><th scope=col>&lt;dbl&gt;</th><th scope=col>&lt;dbl&gt;</th><th scope=col>&lt;dbl&gt;</th><th scope=col>&lt;dbl&gt;</th><th scope=col>&lt;dbl&gt;</th><th scope=col>&lt;dbl&gt;</th><th scope=col>&lt;chr&gt;</th><th scope=col>&lt;chr&gt;</th><th scope=col>&lt;chr&gt;</th><th scope=col>&lt;chr&gt;</th><th scope=col>&lt;chr&gt;</th><th scope=col>&lt;chr&gt;</th><th scope=col>&lt;chr&gt;</th><th scope=col>&lt;dbl&gt;</th></tr>\n",
       "</thead>\n",
       "<tbody>\n",
       "\t<tr><td>I38PQUQS96</td><td>56</td><td>85994</td><td> 50587</td><td>520</td><td>80</td><td>4</td><td>15.23</td><td>36</td><td>0.44</td><td>Bachelor's </td><td>Full-time </td><td>Divorced</td><td>Yes</td><td>Yes</td><td>Other   </td><td>Yes</td><td>0</td></tr>\n",
       "\t<tr><td>HPSK72WA7R</td><td>69</td><td>50432</td><td>124440</td><td>458</td><td>15</td><td>1</td><td> 4.81</td><td>60</td><td>0.68</td><td>Master's   </td><td>Full-time </td><td>Married </td><td>No </td><td>No </td><td>Other   </td><td>Yes</td><td>0</td></tr>\n",
       "\t<tr><td>C1OZ6DPJ8Y</td><td>46</td><td>84208</td><td>129188</td><td>451</td><td>26</td><td>3</td><td>21.17</td><td>24</td><td>0.31</td><td>Master's   </td><td>Unemployed</td><td>Divorced</td><td>Yes</td><td>Yes</td><td>Auto    </td><td>No </td><td>1</td></tr>\n",
       "\t<tr><td>V2KKSFM3UN</td><td>32</td><td>31713</td><td> 44799</td><td>743</td><td> 0</td><td>3</td><td> 7.07</td><td>24</td><td>0.23</td><td>High School</td><td>Full-time </td><td>Married </td><td>No </td><td>No </td><td>Business</td><td>No </td><td>0</td></tr>\n",
       "\t<tr><td>EY08JDHTZP</td><td>60</td><td>20437</td><td>  9139</td><td>633</td><td> 8</td><td>4</td><td> 6.51</td><td>48</td><td>0.73</td><td>Bachelor's </td><td>Unemployed</td><td>Divorced</td><td>No </td><td>Yes</td><td>Auto    </td><td>No </td><td>0</td></tr>\n",
       "\t<tr><td>A9S62RQ7US</td><td>25</td><td>90298</td><td> 90448</td><td>720</td><td>18</td><td>2</td><td>22.72</td><td>24</td><td>0.10</td><td>High School</td><td>Unemployed</td><td>Single  </td><td>Yes</td><td>No </td><td>Business</td><td>Yes</td><td>1</td></tr>\n",
       "</tbody>\n",
       "</table>\n"
      ],
      "text/latex": [
       "A tibble: 6 × 18\n",
       "\\begin{tabular}{llllllllllllllllll}\n",
       " LoanID & Age & Income & LoanAmount & CreditScore & MonthsEmployed & NumCreditLines & InterestRate & LoanTerm & DTIRatio & Education & EmploymentType & MaritalStatus & HasMortgage & HasDependents & LoanPurpose & HasCoSigner & Default\\\\\n",
       " <chr> & <dbl> & <dbl> & <dbl> & <dbl> & <dbl> & <dbl> & <dbl> & <dbl> & <dbl> & <chr> & <chr> & <chr> & <chr> & <chr> & <chr> & <chr> & <dbl>\\\\\n",
       "\\hline\n",
       "\t I38PQUQS96 & 56 & 85994 &  50587 & 520 & 80 & 4 & 15.23 & 36 & 0.44 & Bachelor's  & Full-time  & Divorced & Yes & Yes & Other    & Yes & 0\\\\\n",
       "\t HPSK72WA7R & 69 & 50432 & 124440 & 458 & 15 & 1 &  4.81 & 60 & 0.68 & Master's    & Full-time  & Married  & No  & No  & Other    & Yes & 0\\\\\n",
       "\t C1OZ6DPJ8Y & 46 & 84208 & 129188 & 451 & 26 & 3 & 21.17 & 24 & 0.31 & Master's    & Unemployed & Divorced & Yes & Yes & Auto     & No  & 1\\\\\n",
       "\t V2KKSFM3UN & 32 & 31713 &  44799 & 743 &  0 & 3 &  7.07 & 24 & 0.23 & High School & Full-time  & Married  & No  & No  & Business & No  & 0\\\\\n",
       "\t EY08JDHTZP & 60 & 20437 &   9139 & 633 &  8 & 4 &  6.51 & 48 & 0.73 & Bachelor's  & Unemployed & Divorced & No  & Yes & Auto     & No  & 0\\\\\n",
       "\t A9S62RQ7US & 25 & 90298 &  90448 & 720 & 18 & 2 & 22.72 & 24 & 0.10 & High School & Unemployed & Single   & Yes & No  & Business & Yes & 1\\\\\n",
       "\\end{tabular}\n"
      ],
      "text/markdown": [
       "\n",
       "A tibble: 6 × 18\n",
       "\n",
       "| LoanID &lt;chr&gt; | Age &lt;dbl&gt; | Income &lt;dbl&gt; | LoanAmount &lt;dbl&gt; | CreditScore &lt;dbl&gt; | MonthsEmployed &lt;dbl&gt; | NumCreditLines &lt;dbl&gt; | InterestRate &lt;dbl&gt; | LoanTerm &lt;dbl&gt; | DTIRatio &lt;dbl&gt; | Education &lt;chr&gt; | EmploymentType &lt;chr&gt; | MaritalStatus &lt;chr&gt; | HasMortgage &lt;chr&gt; | HasDependents &lt;chr&gt; | LoanPurpose &lt;chr&gt; | HasCoSigner &lt;chr&gt; | Default &lt;dbl&gt; |\n",
       "|---|---|---|---|---|---|---|---|---|---|---|---|---|---|---|---|---|---|\n",
       "| I38PQUQS96 | 56 | 85994 |  50587 | 520 | 80 | 4 | 15.23 | 36 | 0.44 | Bachelor's  | Full-time  | Divorced | Yes | Yes | Other    | Yes | 0 |\n",
       "| HPSK72WA7R | 69 | 50432 | 124440 | 458 | 15 | 1 |  4.81 | 60 | 0.68 | Master's    | Full-time  | Married  | No  | No  | Other    | Yes | 0 |\n",
       "| C1OZ6DPJ8Y | 46 | 84208 | 129188 | 451 | 26 | 3 | 21.17 | 24 | 0.31 | Master's    | Unemployed | Divorced | Yes | Yes | Auto     | No  | 1 |\n",
       "| V2KKSFM3UN | 32 | 31713 |  44799 | 743 |  0 | 3 |  7.07 | 24 | 0.23 | High School | Full-time  | Married  | No  | No  | Business | No  | 0 |\n",
       "| EY08JDHTZP | 60 | 20437 |   9139 | 633 |  8 | 4 |  6.51 | 48 | 0.73 | Bachelor's  | Unemployed | Divorced | No  | Yes | Auto     | No  | 0 |\n",
       "| A9S62RQ7US | 25 | 90298 |  90448 | 720 | 18 | 2 | 22.72 | 24 | 0.10 | High School | Unemployed | Single   | Yes | No  | Business | Yes | 1 |\n",
       "\n"
      ],
      "text/plain": [
       "  LoanID     Age Income LoanAmount CreditScore MonthsEmployed NumCreditLines\n",
       "1 I38PQUQS96 56  85994   50587     520         80             4             \n",
       "2 HPSK72WA7R 69  50432  124440     458         15             1             \n",
       "3 C1OZ6DPJ8Y 46  84208  129188     451         26             3             \n",
       "4 V2KKSFM3UN 32  31713   44799     743          0             3             \n",
       "5 EY08JDHTZP 60  20437    9139     633          8             4             \n",
       "6 A9S62RQ7US 25  90298   90448     720         18             2             \n",
       "  InterestRate LoanTerm DTIRatio Education   EmploymentType MaritalStatus\n",
       "1 15.23        36       0.44     Bachelor's  Full-time      Divorced     \n",
       "2  4.81        60       0.68     Master's    Full-time      Married      \n",
       "3 21.17        24       0.31     Master's    Unemployed     Divorced     \n",
       "4  7.07        24       0.23     High School Full-time      Married      \n",
       "5  6.51        48       0.73     Bachelor's  Unemployed     Divorced     \n",
       "6 22.72        24       0.10     High School Unemployed     Single       \n",
       "  HasMortgage HasDependents LoanPurpose HasCoSigner Default\n",
       "1 Yes         Yes           Other       Yes         0      \n",
       "2 No          No            Other       Yes         0      \n",
       "3 Yes         Yes           Auto        No          1      \n",
       "4 No          No            Business    No          0      \n",
       "5 No          Yes           Auto        No          0      \n",
       "6 Yes         No            Business    Yes         1      "
      ]
     },
     "metadata": {},
     "output_type": "display_data"
    }
   ],
   "source": [
    "library(tidyverse)\n",
    "\n",
    "loan <-read_csv(\"loan_default.csv\") \n",
    "head(loan)"
   ]
  },
  {
   "cell_type": "code",
   "execution_count": null,
   "id": "d594f99a-faa8-43d9-80cb-3d8e1397c87c",
   "metadata": {},
   "outputs": [],
   "source": []
  }
 ],
 "metadata": {
  "kernelspec": {
   "display_name": "R",
   "language": "R",
   "name": "ir"
  },
  "language_info": {
   "codemirror_mode": "r",
   "file_extension": ".r",
   "mimetype": "text/x-r-source",
   "name": "R",
   "pygments_lexer": "r",
   "version": "4.2.2"
  }
 },
 "nbformat": 4,
 "nbformat_minor": 5
}
